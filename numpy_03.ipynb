{
  "nbformat": 4,
  "nbformat_minor": 0,
  "metadata": {
    "colab": {
      "name": "numpy_03.ipynb",
      "provenance": [],
      "authorship_tag": "ABX9TyPB9M+ZRmJzAVnYTfz96Ta0",
      "include_colab_link": true
    },
    "kernelspec": {
      "name": "python3",
      "display_name": "Python 3"
    },
    "language_info": {
      "name": "python"
    }
  },
  "cells": [
    {
      "cell_type": "markdown",
      "metadata": {
        "id": "view-in-github",
        "colab_type": "text"
      },
      "source": [
        "<a href=\"https://colab.research.google.com/github/rprakashiyer/Python/blob/main/numpy_03.ipynb\" target=\"_parent\"><img src=\"https://colab.research.google.com/assets/colab-badge.svg\" alt=\"Open In Colab\"/></a>"
      ]
    },
    {
      "cell_type": "code",
      "execution_count": 100,
      "metadata": {
        "id": "9M2y1U3W4o8O"
      },
      "outputs": [],
      "source": [
        "import numpy as np"
      ]
    },
    {
      "cell_type": "markdown",
      "source": [
        "### gdown is the command to download file directly from google drive"
      ],
      "metadata": {
        "id": "72FdbGcyAmGD"
      }
    },
    {
      "cell_type": "code",
      "source": [
        "!gdown 1kXqcJo4YzmwF1G2BPoA17CI49TZVHANF"
      ],
      "metadata": {
        "colab": {
          "base_uri": "https://localhost:8080/"
        },
        "id": "kEzV6Yw35DzE",
        "outputId": "d46aa22d-193c-4531-bd5b-61c4f8a833f8"
      },
      "execution_count": 82,
      "outputs": [
        {
          "output_type": "stream",
          "name": "stdout",
          "text": [
            "Downloading...\n",
            "From: https://drive.google.com/uc?id=1kXqcJo4YzmwF1G2BPoA17CI49TZVHANF\n",
            "To: /content/fitness.txt\n",
            "\r  0% 0.00/3.14k [00:00<?, ?B/s]\r100% 3.14k/3.14k [00:00<00:00, 8.22MB/s]\n"
          ]
        }
      ]
    },
    {
      "cell_type": "code",
      "source": [
        "a = np.array([4,6,3,1,0,10,25,21,22,9,5,2])\n",
        "a"
      ],
      "metadata": {
        "colab": {
          "base_uri": "https://localhost:8080/"
        },
        "id": "AE5TIW2j5Dwc",
        "outputId": "d126403e-cf84-40d3-eb37-05b0074adcd4"
      },
      "execution_count": 5,
      "outputs": [
        {
          "output_type": "execute_result",
          "data": {
            "text/plain": [
              "array([ 4,  6,  3,  1,  0, 10, 25, 21, 22,  9,  5,  2])"
            ]
          },
          "metadata": {},
          "execution_count": 5
        }
      ]
    },
    {
      "cell_type": "markdown",
      "source": [
        "### normal sort function"
      ],
      "metadata": {
        "id": "NtxYkyedAw2X"
      }
    },
    {
      "cell_type": "code",
      "source": [
        "a.sort()"
      ],
      "metadata": {
        "id": "YTyIKjds5Dt0"
      },
      "execution_count": 6,
      "outputs": []
    },
    {
      "cell_type": "code",
      "source": [
        "a"
      ],
      "metadata": {
        "colab": {
          "base_uri": "https://localhost:8080/"
        },
        "id": "R5EG9W0t5DrE",
        "outputId": "747e880c-ac75-4521-9960-36475c26878a"
      },
      "execution_count": 7,
      "outputs": [
        {
          "output_type": "execute_result",
          "data": {
            "text/plain": [
              "array([ 0,  1,  2,  3,  4,  5,  6,  9, 10, 21, 22, 25])"
            ]
          },
          "metadata": {},
          "execution_count": 7
        }
      ]
    },
    {
      "cell_type": "code",
      "source": [
        "a = np.array([4,6,3,1,0,10,25,21,22,9,5,2])\n",
        "a"
      ],
      "metadata": {
        "colab": {
          "base_uri": "https://localhost:8080/"
        },
        "id": "qr2smJCJ5DoW",
        "outputId": "f3c4ac7e-f0be-4b9b-dd78-280a25883cc4"
      },
      "execution_count": 8,
      "outputs": [
        {
          "output_type": "execute_result",
          "data": {
            "text/plain": [
              "array([ 4,  6,  3,  1,  0, 10, 25, 21, 22,  9,  5,  2])"
            ]
          },
          "metadata": {},
          "execution_count": 8
        }
      ]
    },
    {
      "cell_type": "markdown",
      "source": [
        "### argsort is one function which provides us with the indexes of the sorted values"
      ],
      "metadata": {
        "id": "lWipEa00A1Ef"
      }
    },
    {
      "cell_type": "code",
      "source": [
        "np.argsort(a)"
      ],
      "metadata": {
        "colab": {
          "base_uri": "https://localhost:8080/"
        },
        "id": "JrbnPOpu5Dlv",
        "outputId": "83fe77cb-abfa-46c2-f0ab-be7a067fc2ce"
      },
      "execution_count": 9,
      "outputs": [
        {
          "output_type": "execute_result",
          "data": {
            "text/plain": [
              "array([ 4,  3, 11,  2,  0, 10,  1,  9,  5,  7,  8,  6])"
            ]
          },
          "metadata": {},
          "execution_count": 9
        }
      ]
    },
    {
      "cell_type": "markdown",
      "source": [
        "### argmax gives us the index of the maximum value in the array"
      ],
      "metadata": {
        "id": "H9acIg5TA9qy"
      }
    },
    {
      "cell_type": "code",
      "source": [
        "np.argmax(a)"
      ],
      "metadata": {
        "colab": {
          "base_uri": "https://localhost:8080/"
        },
        "id": "yULdDNH35DjE",
        "outputId": "25502247-a19e-4382-cd6c-edd7514ecac1"
      },
      "execution_count": 10,
      "outputs": [
        {
          "output_type": "execute_result",
          "data": {
            "text/plain": [
              "6"
            ]
          },
          "metadata": {},
          "execution_count": 10
        }
      ]
    },
    {
      "cell_type": "markdown",
      "source": [
        "### argmin gives us the index of the minimum value in the array"
      ],
      "metadata": {
        "id": "_ihMOm9uBG5Z"
      }
    },
    {
      "cell_type": "code",
      "source": [
        "np.argmin(a)"
      ],
      "metadata": {
        "colab": {
          "base_uri": "https://localhost:8080/"
        },
        "id": "DhQ__-oN5Dgc",
        "outputId": "8221f4ca-9e1b-4cd3-ff27-6c539fd6869a"
      },
      "execution_count": 11,
      "outputs": [
        {
          "output_type": "execute_result",
          "data": {
            "text/plain": [
              "4"
            ]
          },
          "metadata": {},
          "execution_count": 11
        }
      ]
    },
    {
      "cell_type": "markdown",
      "source": [
        "### while min & max only gives minimum and maximum values in the array"
      ],
      "metadata": {
        "id": "ECMthl47BN6Z"
      }
    },
    {
      "cell_type": "code",
      "source": [
        "np.min(a)"
      ],
      "metadata": {
        "colab": {
          "base_uri": "https://localhost:8080/"
        },
        "id": "ybdAVzFY5Ddt",
        "outputId": "9d123579-9aab-467d-f09f-7c5f118e0986"
      },
      "execution_count": 14,
      "outputs": [
        {
          "output_type": "execute_result",
          "data": {
            "text/plain": [
              "0"
            ]
          },
          "metadata": {},
          "execution_count": 14
        }
      ]
    },
    {
      "cell_type": "code",
      "source": [
        "np.max(a)"
      ],
      "metadata": {
        "colab": {
          "base_uri": "https://localhost:8080/"
        },
        "id": "cL0jQDpG5DWV",
        "outputId": "25cff9fa-a1b7-46f6-b757-20e80c48403e"
      },
      "execution_count": 15,
      "outputs": [
        {
          "output_type": "execute_result",
          "data": {
            "text/plain": [
              "25"
            ]
          },
          "metadata": {},
          "execution_count": 15
        }
      ]
    },
    {
      "cell_type": "markdown",
      "source": [
        "### A 2D matrix"
      ],
      "metadata": {
        "id": "dpbwS3yZCOCp"
      }
    },
    {
      "cell_type": "code",
      "source": [
        "b=np.array([[20,2,34],[13,1,26],[12,7,95]])\n",
        "b"
      ],
      "metadata": {
        "colab": {
          "base_uri": "https://localhost:8080/"
        },
        "id": "gU-Dcag35DTF",
        "outputId": "57e108ef-075d-4619-e4ba-9327c50b6f7c"
      },
      "execution_count": 19,
      "outputs": [
        {
          "output_type": "execute_result",
          "data": {
            "text/plain": [
              "array([[20,  2, 34],\n",
              "       [13,  1, 26],\n",
              "       [12,  7, 95]])"
            ]
          },
          "metadata": {},
          "execution_count": 19
        }
      ]
    },
    {
      "cell_type": "markdown",
      "source": [
        "### Default axis for sort is horizontal axis, i.e axis = 1\n",
        "###For Verticle sort,   axis = 0"
      ],
      "metadata": {
        "id": "4ZNWWd7RCRoG"
      }
    },
    {
      "cell_type": "code",
      "source": [
        "np.sort(b)"
      ],
      "metadata": {
        "colab": {
          "base_uri": "https://localhost:8080/"
        },
        "id": "FDvEjmTx5DP9",
        "outputId": "c404848f-1df5-4d88-933c-15fd7dc34869"
      },
      "execution_count": 18,
      "outputs": [
        {
          "output_type": "execute_result",
          "data": {
            "text/plain": [
              "array([[ 2, 20, 34],\n",
              "       [ 1, 13, 26],\n",
              "       [ 7, 12, 95]])"
            ]
          },
          "metadata": {},
          "execution_count": 18
        }
      ]
    },
    {
      "cell_type": "code",
      "source": [
        "b=np.array([[20,2,34],[13,1,26],[12,7,95]])\n",
        "b"
      ],
      "metadata": {
        "colab": {
          "base_uri": "https://localhost:8080/"
        },
        "id": "rtBhN1rmBqMc",
        "outputId": "532ba0d1-a7f8-4c96-d754-d8cca96eae48"
      },
      "execution_count": 27,
      "outputs": [
        {
          "output_type": "execute_result",
          "data": {
            "text/plain": [
              "array([[20,  2, 34],\n",
              "       [13,  1, 26],\n",
              "       [12,  7, 95]])"
            ]
          },
          "metadata": {},
          "execution_count": 27
        }
      ]
    },
    {
      "cell_type": "code",
      "source": [
        "np.sort(b,axis=0)"
      ],
      "metadata": {
        "colab": {
          "base_uri": "https://localhost:8080/"
        },
        "id": "h4-x4Z7iBqJT",
        "outputId": "a0eaa30c-e767-40c1-aee5-bd5377aa9f38"
      },
      "execution_count": 28,
      "outputs": [
        {
          "output_type": "execute_result",
          "data": {
            "text/plain": [
              "array([[12,  1, 26],\n",
              "       [13,  2, 34],\n",
              "       [20,  7, 95]])"
            ]
          },
          "metadata": {},
          "execution_count": 28
        }
      ]
    },
    {
      "cell_type": "code",
      "source": [
        "np.argsort(b,axis=0)"
      ],
      "metadata": {
        "colab": {
          "base_uri": "https://localhost:8080/"
        },
        "id": "e2gFj_63BqGs",
        "outputId": "5bf0bfce-1c75-4536-d8aa-217d9f035d7d"
      },
      "execution_count": 29,
      "outputs": [
        {
          "output_type": "execute_result",
          "data": {
            "text/plain": [
              "array([[2, 1, 1],\n",
              "       [1, 0, 0],\n",
              "       [0, 2, 2]])"
            ]
          },
          "metadata": {},
          "execution_count": 29
        }
      ]
    },
    {
      "cell_type": "code",
      "source": [
        "b"
      ],
      "metadata": {
        "colab": {
          "base_uri": "https://localhost:8080/"
        },
        "id": "VYLQiCrQBqED",
        "outputId": "55dc5354-e120-4467-820b-d27bd013af29"
      },
      "execution_count": 30,
      "outputs": [
        {
          "output_type": "execute_result",
          "data": {
            "text/plain": [
              "array([[20,  2, 34],\n",
              "       [13,  1, 26],\n",
              "       [12,  7, 95]])"
            ]
          },
          "metadata": {},
          "execution_count": 30
        }
      ]
    },
    {
      "cell_type": "code",
      "source": [
        "b = np.sort(b,axis=0)"
      ],
      "metadata": {
        "id": "YN8iSUtMBqBi"
      },
      "execution_count": 25,
      "outputs": []
    },
    {
      "cell_type": "code",
      "source": [
        "b"
      ],
      "metadata": {
        "colab": {
          "base_uri": "https://localhost:8080/"
        },
        "id": "FSi216UWBp-z",
        "outputId": "979b8312-0021-4aa7-f28e-17327a497e20"
      },
      "execution_count": 26,
      "outputs": [
        {
          "output_type": "execute_result",
          "data": {
            "text/plain": [
              "array([[12,  1, 26],\n",
              "       [13,  2, 34],\n",
              "       [20,  7, 95]])"
            ]
          },
          "metadata": {},
          "execution_count": 26
        }
      ]
    },
    {
      "cell_type": "code",
      "source": [
        "fit_data = np.loadtxt('/content/fitness.txt',dtype = str)"
      ],
      "metadata": {
        "id": "PnOFBrz6Bp8K"
      },
      "execution_count": 83,
      "outputs": []
    },
    {
      "cell_type": "markdown",
      "source": [
        "# date,step_count,mood,calories_burned,\n",
        "# hours_of_sleep,bool_of_active,weight_kg"
      ],
      "metadata": {
        "id": "3vSxsHcxIZVg"
      }
    },
    {
      "cell_type": "code",
      "source": [
        "fit_data"
      ],
      "metadata": {
        "colab": {
          "base_uri": "https://localhost:8080/"
        },
        "id": "y4EsZ452Bp5K",
        "outputId": "0cbfbf32-27c9-4106-f9e6-06459a34a6ed"
      },
      "execution_count": 146,
      "outputs": [
        {
          "output_type": "execute_result",
          "data": {
            "text/plain": [
              "array([['06-10-2017', '5464', 'Neutral', '181', '5', 'Inactive', '66'],\n",
              "       ['07-10-2017', '6041', 'Sad', '197', '8', 'Inactive', '66'],\n",
              "       ['08-10-2017', '25', 'Sad', '0', '5', 'Inactive', '66'],\n",
              "       ['09-10-2017', '5461', 'Sad', '174', '4', 'Inactive', '66'],\n",
              "       ['10-10-2017', '6915', 'Neutral', '223', '5', 'Active', '66'],\n",
              "       ['11-10-2017', '4545', 'Sad', '149', '6', 'Inactive', '66'],\n",
              "       ['12-10-2017', '4340', 'Sad', '140', '6', 'Inactive', '66'],\n",
              "       ['13-10-2017', '1230', 'Sad', '38', '7', 'Inactive', '66'],\n",
              "       ['14-10-2017', '61', 'Sad', '1', '5', 'Inactive', '66'],\n",
              "       ['15-10-2017', '1258', 'Sad', '40', '6', 'Inactive', '65'],\n",
              "       ['16-10-2017', '3148', 'Sad', '101', '8', 'Inactive', '65'],\n",
              "       ['17-10-2017', '4687', 'Sad', '152', '5', 'Inactive', '65'],\n",
              "       ['18-10-2017', '4732', 'Happy', '150', '6', 'Active', '65'],\n",
              "       ['19-10-2017', '3519', 'Sad', '113', '7', 'Inactive', '65'],\n",
              "       ['20-10-2017', '1580', 'Sad', '49', '5', 'Inactive', '65'],\n",
              "       ['21-10-2017', '2822', 'Sad', '86', '6', 'Inactive', '65'],\n",
              "       ['22-10-2017', '181', 'Sad', '6', '8', 'Inactive', '65'],\n",
              "       ['23-10-2017', '3158', 'Neutral', '99', '5', 'Inactive', '65'],\n",
              "       ['24-10-2017', '4383', 'Neutral', '143', '4', 'Inactive', '64'],\n",
              "       ['25-10-2017', '3881', 'Neutral', '125', '5', 'Inactive', '64'],\n",
              "       ['26-10-2017', '4037', 'Neutral', '129', '6', 'Inactive', '64'],\n",
              "       ['27-10-2017', '202', 'Neutral', '6', '8', 'Inactive', '64'],\n",
              "       ['28-10-2017', '292', 'Neutral', '9', '5', 'Inactive', '64'],\n",
              "       ['29-10-2017', '330', 'Happy', '10', '6', 'Inactive', '64'],\n",
              "       ['30-10-2017', '2209', 'Neutral', '72', '5', 'Inactive', '64'],\n",
              "       ['31-10-2017', '4550', 'Happy', '150', '8', 'Active', '64'],\n",
              "       ['01-11-2017', '4435', 'Happy', '141', '5', 'Inactive', '64'],\n",
              "       ['02-11-2017', '4779', 'Happy', '156', '4', 'Inactive', '64'],\n",
              "       ['03-11-2017', '1831', 'Happy', '57', '5', 'Inactive', '64'],\n",
              "       ['04-11-2017', '2255', 'Happy', '72', '4', 'Inactive', '64'],\n",
              "       ['05-11-2017', '539', 'Happy', '17', '5', 'Active', '64'],\n",
              "       ['06-11-2017', '5464', 'Happy', '181', '4', 'Inactive', '64'],\n",
              "       ['07-11-2017', '6041', 'Neutral', '197', '3', 'Inactive', '64'],\n",
              "       ['08-11-2017', '4068', 'Happy', '131', '2', 'Inactive', '64'],\n",
              "       ['09-11-2017', '4683', 'Happy', '154', '9', 'Inactive', '64'],\n",
              "       ['10-11-2017', '4033', 'Happy', '137', '5', 'Inactive', '64'],\n",
              "       ['11-11-2017', '6314', 'Happy', '193', '6', 'Active', '64'],\n",
              "       ['12-11-2017', '614', 'Happy', '19', '4', 'Active', '64'],\n",
              "       ['13-11-2017', '3149', 'Happy', '101', '5', 'Active', '64'],\n",
              "       ['14-11-2017', '4005', 'Happy', '139', '8', 'Active', '64'],\n",
              "       ['15-11-2017', '4880', 'Happy', '164', '4', 'Active', '64'],\n",
              "       ['16-11-2017', '4136', 'Happy', '137', '5', 'Active', '64'],\n",
              "       ['17-11-2017', '705', 'Happy', '22', '6', 'Active', '64'],\n",
              "       ['18-11-2017', '570', 'Neutral', '17', '5', 'Active', '64'],\n",
              "       ['19-11-2017', '269', 'Happy', '9', '6', 'Active', '64'],\n",
              "       ['20-11-2017', '4275', 'Happy', '145', '5', 'Inactive', '64'],\n",
              "       ['21-11-2017', '5999', 'Happy', '192', '6', 'Inactive', '64'],\n",
              "       ['22-11-2017', '4421', 'Happy', '146', '5', 'Inactive', '64'],\n",
              "       ['23-11-2017', '6930', 'Happy', '234', '6', 'Inactive', '64'],\n",
              "       ['24-11-2017', '5195', 'Happy', '167', '5', 'Inactive', '64'],\n",
              "       ['25-11-2017', '546', 'Happy', '16', '6', 'Inactive', '64'],\n",
              "       ['26-11-2017', '493', 'Happy', '17', '7', 'Active', '64'],\n",
              "       ['27-11-2017', '995', 'Happy', '32', '6', 'Active', '64'],\n",
              "       ['28-11-2017', '1163', 'Neutral', '35', '7', 'Active', '64'],\n",
              "       ['29-11-2017', '6676', 'Sad', '220', '6', 'Active', '64'],\n",
              "       ['30-11-2017', '3608', 'Happy', '116', '5', 'Active', '64'],\n",
              "       ['01-12-2017', '774', 'Happy', '23', '6', 'Active', '64'],\n",
              "       ['02-12-2017', '1421', 'Happy', '44', '7', 'Active', '64'],\n",
              "       ['03-12-2017', '4064', 'Happy', '131', '8', 'Active', '64'],\n",
              "       ['04-12-2017', '2725', 'Happy', '86', '8', 'Active', '64'],\n",
              "       ['05-12-2017', '5934', 'Happy', '194', '7', 'Active', '64'],\n",
              "       ['06-12-2017', '1867', 'Happy', '60', '8', 'Active', '64'],\n",
              "       ['07-12-2017', '3721', 'Sad', '121', '5', 'Active', '64'],\n",
              "       ['08-12-2017', '2374', 'Neutral', '76', '4', 'Inactive', '64'],\n",
              "       ['09-12-2017', '2909', 'Neutral', '93', '3', 'Active', '64'],\n",
              "       ['10-12-2017', '1648', 'Sad', '53', '3', 'Active', '64'],\n",
              "       ['11-12-2017', '799', 'Sad', '25', '4', 'Inactive', '64'],\n",
              "       ['12-12-2017', '7102', 'Neutral', '227', '5', 'Active', '64'],\n",
              "       ['13-12-2017', '3941', 'Neutral', '125', '5', 'Active', '64'],\n",
              "       ['14-12-2017', '7422', 'Happy', '243', '5', 'Active', '64'],\n",
              "       ['15-12-2017', '437', 'Neutral', '14', '3', 'Active', '64'],\n",
              "       ['16-12-2017', '1231', 'Neutral', '39', '4', 'Active', '64'],\n",
              "       ['17-12-2017', '1696', 'Sad', '55', '4', 'Inactive', '64'],\n",
              "       ['18-12-2017', '4921', 'Neutral', '158', '5', 'Active', '64'],\n",
              "       ['19-12-2017', '221', 'Sad', '7', '5', 'Active', '64'],\n",
              "       ['20-12-2017', '6500', 'Neutral', '213', '5', 'Active', '64'],\n",
              "       ['21-12-2017', '3575', 'Neutral', '116', '5', 'Active', '64'],\n",
              "       ['22-12-2017', '4061', 'Sad', '129', '5', 'Inactive', '64'],\n",
              "       ['23-12-2017', '651', 'Sad', '21', '5', 'Inactive', '64'],\n",
              "       ['24-12-2017', '753', 'Sad', '28', '4', 'Inactive', '64'],\n",
              "       ['25-12-2017', '518', 'Sad', '16', '3', 'Inactive', '64'],\n",
              "       ['26-12-2017', '5537', 'Happy', '180', '4', 'Active', '64'],\n",
              "       ['27-12-2017', '4108', 'Neutral', '138', '5', 'Active', '64'],\n",
              "       ['28-12-2017', '5376', 'Happy', '176', '5', 'Active', '64'],\n",
              "       ['29-12-2017', '3066', 'Neutral', '99', '4', 'Active', '64'],\n",
              "       ['30-12-2017', '177', 'Sad', '5', '5', 'Inactive', '64'],\n",
              "       ['31-12-2017', '36', 'Sad', '1', '3', 'Inactive', '64'],\n",
              "       ['01-01-2018', '299', 'Sad', '10', '3', 'Inactive', '64'],\n",
              "       ['02-01-2018', '1447', 'Neutral', '47', '3', 'Inactive', '64'],\n",
              "       ['03-01-2018', '2599', 'Neutral', '84', '2', 'Inactive', '64'],\n",
              "       ['04-01-2018', '702', 'Sad', '23', '3', 'Inactive', '64'],\n",
              "       ['05-01-2018', '133', 'Sad', '4', '2', 'Inactive', '64'],\n",
              "       ['06-01-2018', '153', 'Happy', '0', '8', 'Inactive', '64'],\n",
              "       ['07-01-2018', '500', 'Neutral', '0', '5', 'Active', '64'],\n",
              "       ['08-01-2018', '2127', 'Neutral', '0', '5', 'Inactive', '64'],\n",
              "       ['09-01-2018', '2203', 'Happy', '0', '5', 'Active', '64']],\n",
              "      dtype='<U10')"
            ]
          },
          "metadata": {},
          "execution_count": 146
        }
      ]
    },
    {
      "cell_type": "code",
      "source": [
        "fit_data.shape"
      ],
      "metadata": {
        "colab": {
          "base_uri": "https://localhost:8080/"
        },
        "id": "fc6KK-6vGkQg",
        "outputId": "f79a5d29-c005-4cb8-c10d-6d79acc1404c"
      },
      "execution_count": 147,
      "outputs": [
        {
          "output_type": "execute_result",
          "data": {
            "text/plain": [
              "(96, 7)"
            ]
          },
          "metadata": {},
          "execution_count": 147
        }
      ]
    },
    {
      "cell_type": "code",
      "source": [
        "fit_data[0]"
      ],
      "metadata": {
        "colab": {
          "base_uri": "https://localhost:8080/"
        },
        "id": "XA2vFC84Gv2E",
        "outputId": "1259a800-0779-4b73-d3e2-ebfe98de5a3e"
      },
      "execution_count": 148,
      "outputs": [
        {
          "output_type": "execute_result",
          "data": {
            "text/plain": [
              "array(['06-10-2017', '5464', 'Neutral', '181', '5', 'Inactive', '66'],\n",
              "      dtype='<U10')"
            ]
          },
          "metadata": {},
          "execution_count": 148
        }
      ]
    },
    {
      "cell_type": "code",
      "source": [
        "fit_data[:5,:]"
      ],
      "metadata": {
        "colab": {
          "base_uri": "https://localhost:8080/"
        },
        "id": "7PkpdpSoHDXV",
        "outputId": "52a8a0c2-bd3f-4fda-b879-f72a18a08e0c"
      },
      "execution_count": 149,
      "outputs": [
        {
          "output_type": "execute_result",
          "data": {
            "text/plain": [
              "array([['06-10-2017', '5464', 'Neutral', '181', '5', 'Inactive', '66'],\n",
              "       ['07-10-2017', '6041', 'Sad', '197', '8', 'Inactive', '66'],\n",
              "       ['08-10-2017', '25', 'Sad', '0', '5', 'Inactive', '66'],\n",
              "       ['09-10-2017', '5461', 'Sad', '174', '4', 'Inactive', '66'],\n",
              "       ['10-10-2017', '6915', 'Neutral', '223', '5', 'Active', '66']],\n",
              "      dtype='<U10')"
            ]
          },
          "metadata": {},
          "execution_count": 149
        }
      ]
    },
    {
      "cell_type": "code",
      "source": [
        "data1=np.array([[1,2,3]])\n",
        "print(data1)"
      ],
      "metadata": {
        "colab": {
          "base_uri": "https://localhost:8080/"
        },
        "id": "G_k1IyMbIzm9",
        "outputId": "09512e48-d49e-4674-a4f5-ac86e1ab9540"
      },
      "execution_count": 37,
      "outputs": [
        {
          "output_type": "stream",
          "name": "stdout",
          "text": [
            "[[1 2 3]]\n"
          ]
        }
      ]
    },
    {
      "cell_type": "code",
      "source": [
        "data1.T"
      ],
      "metadata": {
        "colab": {
          "base_uri": "https://localhost:8080/"
        },
        "id": "oLCu9aepIzkK",
        "outputId": "f55ebd5e-9a3d-4ecd-b027-6cef46799ad9"
      },
      "execution_count": 38,
      "outputs": [
        {
          "output_type": "execute_result",
          "data": {
            "text/plain": [
              "array([[1],\n",
              "       [2],\n",
              "       [3]])"
            ]
          },
          "metadata": {},
          "execution_count": 38
        }
      ]
    },
    {
      "cell_type": "markdown",
      "source": [
        "### Here after transposing, the array of (3,1) is unpacked into different variables a,b & c"
      ],
      "metadata": {
        "id": "xwUcf_BBJA0-"
      }
    },
    {
      "cell_type": "code",
      "source": [
        "a,b,c = data1.T"
      ],
      "metadata": {
        "id": "rhEutVryIzhe"
      },
      "execution_count": 39,
      "outputs": []
    },
    {
      "cell_type": "code",
      "source": [
        "a"
      ],
      "metadata": {
        "colab": {
          "base_uri": "https://localhost:8080/"
        },
        "id": "KhLIckccIzcQ",
        "outputId": "1719eb5a-f4d1-4cf2-d386-17416de48c35"
      },
      "execution_count": 40,
      "outputs": [
        {
          "output_type": "execute_result",
          "data": {
            "text/plain": [
              "array([1])"
            ]
          },
          "metadata": {},
          "execution_count": 40
        }
      ]
    },
    {
      "cell_type": "code",
      "source": [
        "b"
      ],
      "metadata": {
        "colab": {
          "base_uri": "https://localhost:8080/"
        },
        "id": "A3g6TyBjIzOi",
        "outputId": "bf6d8e65-a761-47c8-dff4-3d4aaa83a9f3"
      },
      "execution_count": 41,
      "outputs": [
        {
          "output_type": "execute_result",
          "data": {
            "text/plain": [
              "array([2])"
            ]
          },
          "metadata": {},
          "execution_count": 41
        }
      ]
    },
    {
      "cell_type": "code",
      "source": [
        "c"
      ],
      "metadata": {
        "colab": {
          "base_uri": "https://localhost:8080/"
        },
        "id": "NETDDrJfI-2A",
        "outputId": "8175cfa1-d39c-4fd1-b260-6746a44fb5e6"
      },
      "execution_count": 42,
      "outputs": [
        {
          "output_type": "execute_result",
          "data": {
            "text/plain": [
              "array([3])"
            ]
          },
          "metadata": {},
          "execution_count": 42
        }
      ]
    },
    {
      "cell_type": "code",
      "source": [],
      "metadata": {
        "id": "BFVlqR4YI-oK"
      },
      "execution_count": null,
      "outputs": []
    },
    {
      "cell_type": "code",
      "source": [
        "fit_data.T"
      ],
      "metadata": {
        "colab": {
          "base_uri": "https://localhost:8080/"
        },
        "id": "91-sch72HJbq",
        "outputId": "08a8f5f3-08c3-4a48-c563-d803b2a00cea"
      },
      "execution_count": 150,
      "outputs": [
        {
          "output_type": "execute_result",
          "data": {
            "text/plain": [
              "array([['06-10-2017', '07-10-2017', '08-10-2017', '09-10-2017',\n",
              "        '10-10-2017', '11-10-2017', '12-10-2017', '13-10-2017',\n",
              "        '14-10-2017', '15-10-2017', '16-10-2017', '17-10-2017',\n",
              "        '18-10-2017', '19-10-2017', '20-10-2017', '21-10-2017',\n",
              "        '22-10-2017', '23-10-2017', '24-10-2017', '25-10-2017',\n",
              "        '26-10-2017', '27-10-2017', '28-10-2017', '29-10-2017',\n",
              "        '30-10-2017', '31-10-2017', '01-11-2017', '02-11-2017',\n",
              "        '03-11-2017', '04-11-2017', '05-11-2017', '06-11-2017',\n",
              "        '07-11-2017', '08-11-2017', '09-11-2017', '10-11-2017',\n",
              "        '11-11-2017', '12-11-2017', '13-11-2017', '14-11-2017',\n",
              "        '15-11-2017', '16-11-2017', '17-11-2017', '18-11-2017',\n",
              "        '19-11-2017', '20-11-2017', '21-11-2017', '22-11-2017',\n",
              "        '23-11-2017', '24-11-2017', '25-11-2017', '26-11-2017',\n",
              "        '27-11-2017', '28-11-2017', '29-11-2017', '30-11-2017',\n",
              "        '01-12-2017', '02-12-2017', '03-12-2017', '04-12-2017',\n",
              "        '05-12-2017', '06-12-2017', '07-12-2017', '08-12-2017',\n",
              "        '09-12-2017', '10-12-2017', '11-12-2017', '12-12-2017',\n",
              "        '13-12-2017', '14-12-2017', '15-12-2017', '16-12-2017',\n",
              "        '17-12-2017', '18-12-2017', '19-12-2017', '20-12-2017',\n",
              "        '21-12-2017', '22-12-2017', '23-12-2017', '24-12-2017',\n",
              "        '25-12-2017', '26-12-2017', '27-12-2017', '28-12-2017',\n",
              "        '29-12-2017', '30-12-2017', '31-12-2017', '01-01-2018',\n",
              "        '02-01-2018', '03-01-2018', '04-01-2018', '05-01-2018',\n",
              "        '06-01-2018', '07-01-2018', '08-01-2018', '09-01-2018'],\n",
              "       ['5464', '6041', '25', '5461', '6915', '4545', '4340', '1230',\n",
              "        '61', '1258', '3148', '4687', '4732', '3519', '1580', '2822',\n",
              "        '181', '3158', '4383', '3881', '4037', '202', '292', '330',\n",
              "        '2209', '4550', '4435', '4779', '1831', '2255', '539', '5464',\n",
              "        '6041', '4068', '4683', '4033', '6314', '614', '3149', '4005',\n",
              "        '4880', '4136', '705', '570', '269', '4275', '5999', '4421',\n",
              "        '6930', '5195', '546', '493', '995', '1163', '6676', '3608',\n",
              "        '774', '1421', '4064', '2725', '5934', '1867', '3721', '2374',\n",
              "        '2909', '1648', '799', '7102', '3941', '7422', '437', '1231',\n",
              "        '1696', '4921', '221', '6500', '3575', '4061', '651', '753',\n",
              "        '518', '5537', '4108', '5376', '3066', '177', '36', '299',\n",
              "        '1447', '2599', '702', '133', '153', '500', '2127', '2203'],\n",
              "       ['Neutral', 'Sad', 'Sad', 'Sad', 'Neutral', 'Sad', 'Sad', 'Sad',\n",
              "        'Sad', 'Sad', 'Sad', 'Sad', 'Happy', 'Sad', 'Sad', 'Sad', 'Sad',\n",
              "        'Neutral', 'Neutral', 'Neutral', 'Neutral', 'Neutral', 'Neutral',\n",
              "        'Happy', 'Neutral', 'Happy', 'Happy', 'Happy', 'Happy', 'Happy',\n",
              "        'Happy', 'Happy', 'Neutral', 'Happy', 'Happy', 'Happy', 'Happy',\n",
              "        'Happy', 'Happy', 'Happy', 'Happy', 'Happy', 'Happy', 'Neutral',\n",
              "        'Happy', 'Happy', 'Happy', 'Happy', 'Happy', 'Happy', 'Happy',\n",
              "        'Happy', 'Happy', 'Neutral', 'Sad', 'Happy', 'Happy', 'Happy',\n",
              "        'Happy', 'Happy', 'Happy', 'Happy', 'Sad', 'Neutral', 'Neutral',\n",
              "        'Sad', 'Sad', 'Neutral', 'Neutral', 'Happy', 'Neutral',\n",
              "        'Neutral', 'Sad', 'Neutral', 'Sad', 'Neutral', 'Neutral', 'Sad',\n",
              "        'Sad', 'Sad', 'Sad', 'Happy', 'Neutral', 'Happy', 'Neutral',\n",
              "        'Sad', 'Sad', 'Sad', 'Neutral', 'Neutral', 'Sad', 'Sad', 'Happy',\n",
              "        'Neutral', 'Neutral', 'Happy'],\n",
              "       ['181', '197', '0', '174', '223', '149', '140', '38', '1', '40',\n",
              "        '101', '152', '150', '113', '49', '86', '6', '99', '143', '125',\n",
              "        '129', '6', '9', '10', '72', '150', '141', '156', '57', '72',\n",
              "        '17', '181', '197', '131', '154', '137', '193', '19', '101',\n",
              "        '139', '164', '137', '22', '17', '9', '145', '192', '146', '234',\n",
              "        '167', '16', '17', '32', '35', '220', '116', '23', '44', '131',\n",
              "        '86', '194', '60', '121', '76', '93', '53', '25', '227', '125',\n",
              "        '243', '14', '39', '55', '158', '7', '213', '116', '129', '21',\n",
              "        '28', '16', '180', '138', '176', '99', '5', '1', '10', '47',\n",
              "        '84', '23', '4', '0', '0', '0', '0'],\n",
              "       ['5', '8', '5', '4', '5', '6', '6', '7', '5', '6', '8', '5', '6',\n",
              "        '7', '5', '6', '8', '5', '4', '5', '6', '8', '5', '6', '5', '8',\n",
              "        '5', '4', '5', '4', '5', '4', '3', '2', '9', '5', '6', '4', '5',\n",
              "        '8', '4', '5', '6', '5', '6', '5', '6', '5', '6', '5', '6', '7',\n",
              "        '6', '7', '6', '5', '6', '7', '8', '8', '7', '8', '5', '4', '3',\n",
              "        '3', '4', '5', '5', '5', '3', '4', '4', '5', '5', '5', '5', '5',\n",
              "        '5', '4', '3', '4', '5', '5', '4', '5', '3', '3', '3', '2', '3',\n",
              "        '2', '8', '5', '5', '5'],\n",
              "       ['Inactive', 'Inactive', 'Inactive', 'Inactive', 'Active',\n",
              "        'Inactive', 'Inactive', 'Inactive', 'Inactive', 'Inactive',\n",
              "        'Inactive', 'Inactive', 'Active', 'Inactive', 'Inactive',\n",
              "        'Inactive', 'Inactive', 'Inactive', 'Inactive', 'Inactive',\n",
              "        'Inactive', 'Inactive', 'Inactive', 'Inactive', 'Inactive',\n",
              "        'Active', 'Inactive', 'Inactive', 'Inactive', 'Inactive',\n",
              "        'Active', 'Inactive', 'Inactive', 'Inactive', 'Inactive',\n",
              "        'Inactive', 'Active', 'Active', 'Active', 'Active', 'Active',\n",
              "        'Active', 'Active', 'Active', 'Active', 'Inactive', 'Inactive',\n",
              "        'Inactive', 'Inactive', 'Inactive', 'Inactive', 'Active',\n",
              "        'Active', 'Active', 'Active', 'Active', 'Active', 'Active',\n",
              "        'Active', 'Active', 'Active', 'Active', 'Active', 'Inactive',\n",
              "        'Active', 'Active', 'Inactive', 'Active', 'Active', 'Active',\n",
              "        'Active', 'Active', 'Inactive', 'Active', 'Active', 'Active',\n",
              "        'Active', 'Inactive', 'Inactive', 'Inactive', 'Inactive',\n",
              "        'Active', 'Active', 'Active', 'Active', 'Inactive', 'Inactive',\n",
              "        'Inactive', 'Inactive', 'Inactive', 'Inactive', 'Inactive',\n",
              "        'Inactive', 'Active', 'Inactive', 'Active'],\n",
              "       ['66', '66', '66', '66', '66', '66', '66', '66', '66', '65', '65',\n",
              "        '65', '65', '65', '65', '65', '65', '65', '64', '64', '64', '64',\n",
              "        '64', '64', '64', '64', '64', '64', '64', '64', '64', '64', '64',\n",
              "        '64', '64', '64', '64', '64', '64', '64', '64', '64', '64', '64',\n",
              "        '64', '64', '64', '64', '64', '64', '64', '64', '64', '64', '64',\n",
              "        '64', '64', '64', '64', '64', '64', '64', '64', '64', '64', '64',\n",
              "        '64', '64', '64', '64', '64', '64', '64', '64', '64', '64', '64',\n",
              "        '64', '64', '64', '64', '64', '64', '64', '64', '64', '64', '64',\n",
              "        '64', '64', '64', '64', '64', '64', '64', '64']], dtype='<U10')"
            ]
          },
          "metadata": {},
          "execution_count": 150
        }
      ]
    },
    {
      "cell_type": "code",
      "source": [
        "date,step_count,mood,calories_burned,hours_of_sleep,bool_of_active,weight_kg = fit_data.T"
      ],
      "metadata": {
        "id": "kRIF8J0oIjey"
      },
      "execution_count": 151,
      "outputs": []
    },
    {
      "cell_type": "code",
      "source": [
        "date"
      ],
      "metadata": {
        "colab": {
          "base_uri": "https://localhost:8080/"
        },
        "id": "79u-NEHWJdwE",
        "outputId": "cc2ae774-99ee-4456-fdb2-1a0bc0d689df"
      },
      "execution_count": 152,
      "outputs": [
        {
          "output_type": "execute_result",
          "data": {
            "text/plain": [
              "array(['06-10-2017', '07-10-2017', '08-10-2017', '09-10-2017',\n",
              "       '10-10-2017', '11-10-2017', '12-10-2017', '13-10-2017',\n",
              "       '14-10-2017', '15-10-2017', '16-10-2017', '17-10-2017',\n",
              "       '18-10-2017', '19-10-2017', '20-10-2017', '21-10-2017',\n",
              "       '22-10-2017', '23-10-2017', '24-10-2017', '25-10-2017',\n",
              "       '26-10-2017', '27-10-2017', '28-10-2017', '29-10-2017',\n",
              "       '30-10-2017', '31-10-2017', '01-11-2017', '02-11-2017',\n",
              "       '03-11-2017', '04-11-2017', '05-11-2017', '06-11-2017',\n",
              "       '07-11-2017', '08-11-2017', '09-11-2017', '10-11-2017',\n",
              "       '11-11-2017', '12-11-2017', '13-11-2017', '14-11-2017',\n",
              "       '15-11-2017', '16-11-2017', '17-11-2017', '18-11-2017',\n",
              "       '19-11-2017', '20-11-2017', '21-11-2017', '22-11-2017',\n",
              "       '23-11-2017', '24-11-2017', '25-11-2017', '26-11-2017',\n",
              "       '27-11-2017', '28-11-2017', '29-11-2017', '30-11-2017',\n",
              "       '01-12-2017', '02-12-2017', '03-12-2017', '04-12-2017',\n",
              "       '05-12-2017', '06-12-2017', '07-12-2017', '08-12-2017',\n",
              "       '09-12-2017', '10-12-2017', '11-12-2017', '12-12-2017',\n",
              "       '13-12-2017', '14-12-2017', '15-12-2017', '16-12-2017',\n",
              "       '17-12-2017', '18-12-2017', '19-12-2017', '20-12-2017',\n",
              "       '21-12-2017', '22-12-2017', '23-12-2017', '24-12-2017',\n",
              "       '25-12-2017', '26-12-2017', '27-12-2017', '28-12-2017',\n",
              "       '29-12-2017', '30-12-2017', '31-12-2017', '01-01-2018',\n",
              "       '02-01-2018', '03-01-2018', '04-01-2018', '05-01-2018',\n",
              "       '06-01-2018', '07-01-2018', '08-01-2018', '09-01-2018'],\n",
              "      dtype='<U10')"
            ]
          },
          "metadata": {},
          "execution_count": 152
        }
      ]
    },
    {
      "cell_type": "code",
      "source": [
        "date[69]"
      ],
      "metadata": {
        "colab": {
          "base_uri": "https://localhost:8080/",
          "height": 35
        },
        "id": "LFqj9lZsi6gc",
        "outputId": "805a037a-7964-4406-cf2d-31b81537bd93"
      },
      "execution_count": 153,
      "outputs": [
        {
          "output_type": "execute_result",
          "data": {
            "text/plain": [
              "'14-12-2017'"
            ],
            "application/vnd.google.colaboratory.intrinsic+json": {
              "type": "string"
            }
          },
          "metadata": {},
          "execution_count": 153
        }
      ]
    },
    {
      "cell_type": "code",
      "source": [
        "date.shape"
      ],
      "metadata": {
        "colab": {
          "base_uri": "https://localhost:8080/"
        },
        "id": "QiORfx7ZJfhb",
        "outputId": "e0e83ff0-5a83-4a0e-a574-c618bacb6a5b"
      },
      "execution_count": 45,
      "outputs": [
        {
          "output_type": "execute_result",
          "data": {
            "text/plain": [
              "(96,)"
            ]
          },
          "metadata": {},
          "execution_count": 45
        }
      ]
    },
    {
      "cell_type": "code",
      "source": [
        "step_count"
      ],
      "metadata": {
        "colab": {
          "base_uri": "https://localhost:8080/"
        },
        "id": "VkiRxzoGJiZ_",
        "outputId": "24ab5a18-0513-45da-c9ea-a018e2238462"
      },
      "execution_count": 154,
      "outputs": [
        {
          "output_type": "execute_result",
          "data": {
            "text/plain": [
              "array(['5464', '6041', '25', '5461', '6915', '4545', '4340', '1230', '61',\n",
              "       '1258', '3148', '4687', '4732', '3519', '1580', '2822', '181',\n",
              "       '3158', '4383', '3881', '4037', '202', '292', '330', '2209',\n",
              "       '4550', '4435', '4779', '1831', '2255', '539', '5464', '6041',\n",
              "       '4068', '4683', '4033', '6314', '614', '3149', '4005', '4880',\n",
              "       '4136', '705', '570', '269', '4275', '5999', '4421', '6930',\n",
              "       '5195', '546', '493', '995', '1163', '6676', '3608', '774', '1421',\n",
              "       '4064', '2725', '5934', '1867', '3721', '2374', '2909', '1648',\n",
              "       '799', '7102', '3941', '7422', '437', '1231', '1696', '4921',\n",
              "       '221', '6500', '3575', '4061', '651', '753', '518', '5537', '4108',\n",
              "       '5376', '3066', '177', '36', '299', '1447', '2599', '702', '133',\n",
              "       '153', '500', '2127', '2203'], dtype='<U10')"
            ]
          },
          "metadata": {},
          "execution_count": 154
        }
      ]
    },
    {
      "cell_type": "code",
      "source": [
        "step_count.dtype"
      ],
      "metadata": {
        "colab": {
          "base_uri": "https://localhost:8080/"
        },
        "id": "BUUFCLZOktKY",
        "outputId": "308398e1-044d-4b54-8cd5-15ff6c02f424"
      },
      "execution_count": 155,
      "outputs": [
        {
          "output_type": "execute_result",
          "data": {
            "text/plain": [
              "dtype('<U10')"
            ]
          },
          "metadata": {},
          "execution_count": 155
        }
      ]
    },
    {
      "cell_type": "code",
      "source": [
        "step_count = np.array(step_count,dtype=int)"
      ],
      "metadata": {
        "id": "0U0JdNVWktG5"
      },
      "execution_count": 156,
      "outputs": []
    },
    {
      "cell_type": "code",
      "source": [
        "step_count.dtype"
      ],
      "metadata": {
        "colab": {
          "base_uri": "https://localhost:8080/"
        },
        "id": "AXrW1lZQmbhY",
        "outputId": "2ae721fd-d670-4aec-b5b1-f231cdfbddc6"
      },
      "execution_count": 157,
      "outputs": [
        {
          "output_type": "execute_result",
          "data": {
            "text/plain": [
              "dtype('int64')"
            ]
          },
          "metadata": {},
          "execution_count": 157
        }
      ]
    },
    {
      "cell_type": "code",
      "source": [
        "step_count"
      ],
      "metadata": {
        "colab": {
          "base_uri": "https://localhost:8080/"
        },
        "id": "sTy6oQCJks-o",
        "outputId": "9d310775-bca2-43fb-c7a9-8d4e64e70cc9"
      },
      "execution_count": 158,
      "outputs": [
        {
          "output_type": "execute_result",
          "data": {
            "text/plain": [
              "array([5464, 6041,   25, 5461, 6915, 4545, 4340, 1230,   61, 1258, 3148,\n",
              "       4687, 4732, 3519, 1580, 2822,  181, 3158, 4383, 3881, 4037,  202,\n",
              "        292,  330, 2209, 4550, 4435, 4779, 1831, 2255,  539, 5464, 6041,\n",
              "       4068, 4683, 4033, 6314,  614, 3149, 4005, 4880, 4136,  705,  570,\n",
              "        269, 4275, 5999, 4421, 6930, 5195,  546,  493,  995, 1163, 6676,\n",
              "       3608,  774, 1421, 4064, 2725, 5934, 1867, 3721, 2374, 2909, 1648,\n",
              "        799, 7102, 3941, 7422,  437, 1231, 1696, 4921,  221, 6500, 3575,\n",
              "       4061,  651,  753,  518, 5537, 4108, 5376, 3066,  177,   36,  299,\n",
              "       1447, 2599,  702,  133,  153,  500, 2127, 2203])"
            ]
          },
          "metadata": {},
          "execution_count": 158
        }
      ]
    },
    {
      "cell_type": "code",
      "source": [
        "step_count.shape"
      ],
      "metadata": {
        "colab": {
          "base_uri": "https://localhost:8080/"
        },
        "id": "8HlMzOTAkIoC",
        "outputId": "0ce14a5d-82f7-4ab8-8e7d-85de7298d95f"
      },
      "execution_count": 113,
      "outputs": [
        {
          "output_type": "execute_result",
          "data": {
            "text/plain": [
              "(96,)"
            ]
          },
          "metadata": {},
          "execution_count": 113
        }
      ]
    },
    {
      "cell_type": "code",
      "source": [
        "np.max(step_count)"
      ],
      "metadata": {
        "colab": {
          "base_uri": "https://localhost:8080/"
        },
        "id": "gr7GYFWRjK13",
        "outputId": "7333a330-a64f-4cd8-ccaf-cf9b1fc477d9"
      },
      "execution_count": 114,
      "outputs": [
        {
          "output_type": "execute_result",
          "data": {
            "text/plain": [
              "7422"
            ]
          },
          "metadata": {},
          "execution_count": 114
        }
      ]
    },
    {
      "cell_type": "code",
      "source": [
        "weight_kg = np.array(weight_kg,dtype=int)\n",
        "calories_burned = np.array(calories_burned,dtype=int)"
      ],
      "metadata": {
        "id": "56OlHKHOlE5Z"
      },
      "execution_count": 159,
      "outputs": []
    },
    {
      "cell_type": "code",
      "source": [
        "weight_kg.dtype"
      ],
      "metadata": {
        "colab": {
          "base_uri": "https://localhost:8080/"
        },
        "id": "yG5r_eYDlE13",
        "outputId": "59477e52-f536-4487-d5ff-df6b92400b47"
      },
      "execution_count": 116,
      "outputs": [
        {
          "output_type": "execute_result",
          "data": {
            "text/plain": [
              "dtype('int64')"
            ]
          },
          "metadata": {},
          "execution_count": 116
        }
      ]
    },
    {
      "cell_type": "code",
      "source": [
        "calories_burned.dtype"
      ],
      "metadata": {
        "colab": {
          "base_uri": "https://localhost:8080/"
        },
        "id": "WAorUnM2n8CQ",
        "outputId": "7f7b74cb-9c1b-44e7-db3f-52bdaf8bdf09"
      },
      "execution_count": 160,
      "outputs": [
        {
          "output_type": "execute_result",
          "data": {
            "text/plain": [
              "dtype('int64')"
            ]
          },
          "metadata": {},
          "execution_count": 160
        }
      ]
    },
    {
      "cell_type": "code",
      "source": [
        "np.max(weight_kg)"
      ],
      "metadata": {
        "colab": {
          "base_uri": "https://localhost:8080/"
        },
        "id": "Ea9R4G-HlEoZ",
        "outputId": "ae379755-e46a-49b2-9379-998d4213f686"
      },
      "execution_count": 117,
      "outputs": [
        {
          "output_type": "execute_result",
          "data": {
            "text/plain": [
              "66"
            ]
          },
          "metadata": {},
          "execution_count": 117
        }
      ]
    },
    {
      "cell_type": "code",
      "source": [
        "weight_kg"
      ],
      "metadata": {
        "colab": {
          "base_uri": "https://localhost:8080/"
        },
        "id": "o4FLx7UbJl2H",
        "outputId": "3e697867-5c19-47f9-dc6f-8557c1f3a732"
      },
      "execution_count": 118,
      "outputs": [
        {
          "output_type": "execute_result",
          "data": {
            "text/plain": [
              "array([66, 66, 66, 66, 66, 66, 66, 66, 66, 65, 65, 65, 65, 65, 65, 65, 65,\n",
              "       65, 64, 64, 64, 64, 64, 64, 64, 64, 64, 64, 64, 64, 64, 64, 64, 64,\n",
              "       64, 64, 64, 64, 64, 64, 64, 64, 64, 64, 64, 64, 64, 64, 64, 64, 64,\n",
              "       64, 64, 64, 64, 64, 64, 64, 64, 64, 64, 64, 64, 64, 64, 64, 64, 64,\n",
              "       64, 64, 64, 64, 64, 64, 64, 64, 64, 64, 64, 64, 64, 64, 64, 64, 64,\n",
              "       64, 64, 64, 64, 64, 64, 64, 64, 64, 64, 64])"
            ]
          },
          "metadata": {},
          "execution_count": 118
        }
      ]
    },
    {
      "cell_type": "code",
      "source": [
        "np.unique(weight_kg,return_counts=True)"
      ],
      "metadata": {
        "colab": {
          "base_uri": "https://localhost:8080/"
        },
        "id": "b0pF3N2aKpKQ",
        "outputId": "6c81f518-61fc-4ea2-9dc8-7ce00c596b16"
      },
      "execution_count": 119,
      "outputs": [
        {
          "output_type": "execute_result",
          "data": {
            "text/plain": [
              "(array([64, 65, 66]), array([78,  9,  9]))"
            ]
          },
          "metadata": {},
          "execution_count": 119
        }
      ]
    },
    {
      "cell_type": "code",
      "source": [
        "mood"
      ],
      "metadata": {
        "colab": {
          "base_uri": "https://localhost:8080/"
        },
        "id": "m91WKiqiJqjw",
        "outputId": "bef3ef2d-cc41-471e-c92a-36d920ea6678"
      },
      "execution_count": 74,
      "outputs": [
        {
          "output_type": "execute_result",
          "data": {
            "text/plain": [
              "array(['200', '100', '100', '100', '200', '100', '100', '100', '100',\n",
              "       '100', '100', '100', '300', '100', '100', '100', '100', '200',\n",
              "       '200', '200', '200', '200', '200', '300', '200', '300', '300',\n",
              "       '300', '300', '300', '300', '300', '200', '300', '300', '300',\n",
              "       '300', '300', '300', '300', '300', '300', '300', '200', '300',\n",
              "       '300', '300', '300', '300', '300', '300', '300', '300', '200',\n",
              "       '100', '300', '300', '300', '300', '300', '300', '300', '100',\n",
              "       '200', '200', '100', '100', '200', '200', '300', '200', '200',\n",
              "       '100', '200', '100', '200', '200', '100', '100', '100', '100',\n",
              "       '300', '200', '300', '200', '100', '100', '100', '200', '200',\n",
              "       '100', '100', '300', '200', '200', '300'], dtype='<U10')"
            ]
          },
          "metadata": {},
          "execution_count": 74
        }
      ]
    },
    {
      "cell_type": "code",
      "source": [
        "np.unique(mood,return_counts=True)"
      ],
      "metadata": {
        "colab": {
          "base_uri": "https://localhost:8080/"
        },
        "id": "yLn5fif-KDqs",
        "outputId": "a1884402-a94f-4307-aa69-f601b48e3bff"
      },
      "execution_count": 75,
      "outputs": [
        {
          "output_type": "execute_result",
          "data": {
            "text/plain": [
              "(array(['100', '200', '300'], dtype='<U10'), array([29, 27, 40]))"
            ]
          },
          "metadata": {},
          "execution_count": 75
        }
      ]
    },
    {
      "cell_type": "code",
      "source": [
        "mood.shape"
      ],
      "metadata": {
        "colab": {
          "base_uri": "https://localhost:8080/"
        },
        "id": "LuY_NwHsKQWE",
        "outputId": "235a6e72-bb77-4fa5-bc0a-86f6deb1b0c5"
      },
      "execution_count": 50,
      "outputs": [
        {
          "output_type": "execute_result",
          "data": {
            "text/plain": [
              "(96,)"
            ]
          },
          "metadata": {},
          "execution_count": 50
        }
      ]
    },
    {
      "cell_type": "code",
      "source": [
        "np.unique(mood)"
      ],
      "metadata": {
        "colab": {
          "base_uri": "https://localhost:8080/"
        },
        "id": "Eg-k1qXpKXwq",
        "outputId": "51e5d46e-69ad-444b-883f-6a30b464eebf"
      },
      "execution_count": 51,
      "outputs": [
        {
          "output_type": "execute_result",
          "data": {
            "text/plain": [
              "array(['100', '200', '300'], dtype='<U10')"
            ]
          },
          "metadata": {},
          "execution_count": 51
        }
      ]
    },
    {
      "cell_type": "code",
      "source": [
        "mood[mood=='100'] = 'Sad'\n",
        "mood[mood=='200'] = 'Neutral'\n",
        "mood[mood=='300'] = 'Happy'"
      ],
      "metadata": {
        "id": "HSevxQCVKhV-"
      },
      "execution_count": 87,
      "outputs": []
    },
    {
      "cell_type": "code",
      "source": [
        "mood"
      ],
      "metadata": {
        "colab": {
          "base_uri": "https://localhost:8080/"
        },
        "id": "o4xynDNWLI9k",
        "outputId": "fbb34283-f252-4509-e6ce-d10f9823a994"
      },
      "execution_count": 57,
      "outputs": [
        {
          "output_type": "execute_result",
          "data": {
            "text/plain": [
              "array(['Neutral', 'Sad', 'Sad', 'Sad', 'Neutral', 'Sad', 'Sad', 'Sad',\n",
              "       'Sad', 'Sad', 'Sad', 'Sad', 'Happy', 'Sad', 'Sad', 'Sad', 'Sad',\n",
              "       'Neutral', 'Neutral', 'Neutral', 'Neutral', 'Neutral', 'Neutral',\n",
              "       'Happy', 'Neutral', 'Happy', 'Happy', 'Happy', 'Happy', 'Happy',\n",
              "       'Happy', 'Happy', 'Neutral', 'Happy', 'Happy', 'Happy', 'Happy',\n",
              "       'Happy', 'Happy', 'Happy', 'Happy', 'Happy', 'Happy', 'Neutral',\n",
              "       'Happy', 'Happy', 'Happy', 'Happy', 'Happy', 'Happy', 'Happy',\n",
              "       'Happy', 'Happy', 'Neutral', 'Sad', 'Happy', 'Happy', 'Happy',\n",
              "       'Happy', 'Happy', 'Happy', 'Happy', 'Sad', 'Neutral', 'Neutral',\n",
              "       'Sad', 'Sad', 'Neutral', 'Neutral', 'Happy', 'Neutral', 'Neutral',\n",
              "       'Sad', 'Neutral', 'Sad', 'Neutral', 'Neutral', 'Sad', 'Sad', 'Sad',\n",
              "       'Sad', 'Happy', 'Neutral', 'Happy', 'Neutral', 'Sad', 'Sad', 'Sad',\n",
              "       'Neutral', 'Neutral', 'Sad', 'Sad', 'Happy', 'Neutral', 'Neutral',\n",
              "       'Happy'], dtype='<U10')"
            ]
          },
          "metadata": {},
          "execution_count": 57
        }
      ]
    },
    {
      "cell_type": "code",
      "source": [
        "np.unique(mood,return_counts=True)"
      ],
      "metadata": {
        "colab": {
          "base_uri": "https://localhost:8080/"
        },
        "id": "1_VwhaFKLKs4",
        "outputId": "2bf45501-3db4-4308-ec43-c14cdf0ab094"
      },
      "execution_count": 95,
      "outputs": [
        {
          "output_type": "execute_result",
          "data": {
            "text/plain": [
              "(array(['Happy', 'Neutral', 'Sad'], dtype='<U10'), array([40, 27, 29]))"
            ]
          },
          "metadata": {},
          "execution_count": 95
        }
      ]
    },
    {
      "cell_type": "code",
      "source": [
        "bool_of_active\n"
      ],
      "metadata": {
        "colab": {
          "base_uri": "https://localhost:8080/"
        },
        "id": "E42pLRlDLbTy",
        "outputId": "c9af4b5b-d18d-416d-8371-7a42fab2d9dd"
      },
      "execution_count": 78,
      "outputs": [
        {
          "output_type": "execute_result",
          "data": {
            "text/plain": [
              "array(['0', '0', '0', '0', '500', '0', '0', '0', '0', '0', '0', '0',\n",
              "       '500', '0', '0', '0', '0', '0', '0', '0', '0', '0', '0', '0', '0',\n",
              "       '500', '0', '0', '0', '0', '500', '0', '0', '0', '0', '0', '500',\n",
              "       '500', '500', '500', '500', '500', '500', '500', '500', '0', '0',\n",
              "       '0', '0', '0', '0', '500', '500', '500', '500', '500', '500',\n",
              "       '500', '500', '500', '500', '500', '500', '0', '500', '500', '0',\n",
              "       '500', '500', '500', '500', '500', '0', '500', '500', '500', '500',\n",
              "       '0', '0', '0', '0', '500', '500', '500', '500', '0', '0', '0', '0',\n",
              "       '0', '0', '0', '0', '500', '0', '500'], dtype='<U10')"
            ]
          },
          "metadata": {},
          "execution_count": 78
        }
      ]
    },
    {
      "cell_type": "code",
      "source": [
        "bool_of_active[bool_of_active == '0'] = 'Inactive'\n",
        "bool_of_active[bool_of_active == '500'] = 'Active'"
      ],
      "metadata": {
        "id": "-6G3dQ0ELbRQ"
      },
      "execution_count": 88,
      "outputs": []
    },
    {
      "cell_type": "code",
      "source": [
        "bool_of_active\n"
      ],
      "metadata": {
        "colab": {
          "base_uri": "https://localhost:8080/"
        },
        "id": "tvYXa57DLQFJ",
        "outputId": "4c7f9a7f-b6c5-48e5-acc4-e7aed80d32f6"
      },
      "execution_count": 94,
      "outputs": [
        {
          "output_type": "execute_result",
          "data": {
            "text/plain": [
              "array(['Inactive', 'Inactive', 'Inactive', 'Inactive', 'Active',\n",
              "       'Inactive', 'Inactive', 'Inactive', 'Inactive', 'Inactive',\n",
              "       'Inactive', 'Inactive', 'Active', 'Inactive', 'Inactive',\n",
              "       'Inactive', 'Inactive', 'Inactive', 'Inactive', 'Inactive',\n",
              "       'Inactive', 'Inactive', 'Inactive', 'Inactive', 'Inactive',\n",
              "       'Active', 'Inactive', 'Inactive', 'Inactive', 'Inactive', 'Active',\n",
              "       'Inactive', 'Inactive', 'Inactive', 'Inactive', 'Inactive',\n",
              "       'Active', 'Active', 'Active', 'Active', 'Active', 'Active',\n",
              "       'Active', 'Active', 'Active', 'Inactive', 'Inactive', 'Inactive',\n",
              "       'Inactive', 'Inactive', 'Inactive', 'Active', 'Active', 'Active',\n",
              "       'Active', 'Active', 'Active', 'Active', 'Active', 'Active',\n",
              "       'Active', 'Active', 'Active', 'Inactive', 'Active', 'Active',\n",
              "       'Inactive', 'Active', 'Active', 'Active', 'Active', 'Active',\n",
              "       'Inactive', 'Active', 'Active', 'Active', 'Active', 'Inactive',\n",
              "       'Inactive', 'Inactive', 'Inactive', 'Active', 'Active', 'Active',\n",
              "       'Active', 'Inactive', 'Inactive', 'Inactive', 'Inactive',\n",
              "       'Inactive', 'Inactive', 'Inactive', 'Inactive', 'Active',\n",
              "       'Inactive', 'Active'], dtype='<U10')"
            ]
          },
          "metadata": {},
          "execution_count": 94
        }
      ]
    },
    {
      "cell_type": "code",
      "source": [
        "fit_data"
      ],
      "metadata": {
        "colab": {
          "base_uri": "https://localhost:8080/"
        },
        "id": "Xk2gYzeiL3W9",
        "outputId": "ee6fb374-5bd0-489b-f273-0f77e0da8a3c"
      },
      "execution_count": 120,
      "outputs": [
        {
          "output_type": "execute_result",
          "data": {
            "text/plain": [
              "array([['06-10-2017', '5464', 'Neutral', '181', '5', 'Inactive', '66'],\n",
              "       ['07-10-2017', '6041', 'Sad', '197', '8', 'Inactive', '66'],\n",
              "       ['08-10-2017', '25', 'Sad', '0', '5', 'Inactive', '66'],\n",
              "       ['09-10-2017', '5461', 'Sad', '174', '4', 'Inactive', '66'],\n",
              "       ['10-10-2017', '6915', 'Neutral', '223', '5', 'Active', '66'],\n",
              "       ['11-10-2017', '4545', 'Sad', '149', '6', 'Inactive', '66'],\n",
              "       ['12-10-2017', '4340', 'Sad', '140', '6', 'Inactive', '66'],\n",
              "       ['13-10-2017', '1230', 'Sad', '38', '7', 'Inactive', '66'],\n",
              "       ['14-10-2017', '61', 'Sad', '1', '5', 'Inactive', '66'],\n",
              "       ['15-10-2017', '1258', 'Sad', '40', '6', 'Inactive', '65'],\n",
              "       ['16-10-2017', '3148', 'Sad', '101', '8', 'Inactive', '65'],\n",
              "       ['17-10-2017', '4687', 'Sad', '152', '5', 'Inactive', '65'],\n",
              "       ['18-10-2017', '4732', 'Happy', '150', '6', 'Active', '65'],\n",
              "       ['19-10-2017', '3519', 'Sad', '113', '7', 'Inactive', '65'],\n",
              "       ['20-10-2017', '1580', 'Sad', '49', '5', 'Inactive', '65'],\n",
              "       ['21-10-2017', '2822', 'Sad', '86', '6', 'Inactive', '65'],\n",
              "       ['22-10-2017', '181', 'Sad', '6', '8', 'Inactive', '65'],\n",
              "       ['23-10-2017', '3158', 'Neutral', '99', '5', 'Inactive', '65'],\n",
              "       ['24-10-2017', '4383', 'Neutral', '143', '4', 'Inactive', '64'],\n",
              "       ['25-10-2017', '3881', 'Neutral', '125', '5', 'Inactive', '64'],\n",
              "       ['26-10-2017', '4037', 'Neutral', '129', '6', 'Inactive', '64'],\n",
              "       ['27-10-2017', '202', 'Neutral', '6', '8', 'Inactive', '64'],\n",
              "       ['28-10-2017', '292', 'Neutral', '9', '5', 'Inactive', '64'],\n",
              "       ['29-10-2017', '330', 'Happy', '10', '6', 'Inactive', '64'],\n",
              "       ['30-10-2017', '2209', 'Neutral', '72', '5', 'Inactive', '64'],\n",
              "       ['31-10-2017', '4550', 'Happy', '150', '8', 'Active', '64'],\n",
              "       ['01-11-2017', '4435', 'Happy', '141', '5', 'Inactive', '64'],\n",
              "       ['02-11-2017', '4779', 'Happy', '156', '4', 'Inactive', '64'],\n",
              "       ['03-11-2017', '1831', 'Happy', '57', '5', 'Inactive', '64'],\n",
              "       ['04-11-2017', '2255', 'Happy', '72', '4', 'Inactive', '64'],\n",
              "       ['05-11-2017', '539', 'Happy', '17', '5', 'Active', '64'],\n",
              "       ['06-11-2017', '5464', 'Happy', '181', '4', 'Inactive', '64'],\n",
              "       ['07-11-2017', '6041', 'Neutral', '197', '3', 'Inactive', '64'],\n",
              "       ['08-11-2017', '4068', 'Happy', '131', '2', 'Inactive', '64'],\n",
              "       ['09-11-2017', '4683', 'Happy', '154', '9', 'Inactive', '64'],\n",
              "       ['10-11-2017', '4033', 'Happy', '137', '5', 'Inactive', '64'],\n",
              "       ['11-11-2017', '6314', 'Happy', '193', '6', 'Active', '64'],\n",
              "       ['12-11-2017', '614', 'Happy', '19', '4', 'Active', '64'],\n",
              "       ['13-11-2017', '3149', 'Happy', '101', '5', 'Active', '64'],\n",
              "       ['14-11-2017', '4005', 'Happy', '139', '8', 'Active', '64'],\n",
              "       ['15-11-2017', '4880', 'Happy', '164', '4', 'Active', '64'],\n",
              "       ['16-11-2017', '4136', 'Happy', '137', '5', 'Active', '64'],\n",
              "       ['17-11-2017', '705', 'Happy', '22', '6', 'Active', '64'],\n",
              "       ['18-11-2017', '570', 'Neutral', '17', '5', 'Active', '64'],\n",
              "       ['19-11-2017', '269', 'Happy', '9', '6', 'Active', '64'],\n",
              "       ['20-11-2017', '4275', 'Happy', '145', '5', 'Inactive', '64'],\n",
              "       ['21-11-2017', '5999', 'Happy', '192', '6', 'Inactive', '64'],\n",
              "       ['22-11-2017', '4421', 'Happy', '146', '5', 'Inactive', '64'],\n",
              "       ['23-11-2017', '6930', 'Happy', '234', '6', 'Inactive', '64'],\n",
              "       ['24-11-2017', '5195', 'Happy', '167', '5', 'Inactive', '64'],\n",
              "       ['25-11-2017', '546', 'Happy', '16', '6', 'Inactive', '64'],\n",
              "       ['26-11-2017', '493', 'Happy', '17', '7', 'Active', '64'],\n",
              "       ['27-11-2017', '995', 'Happy', '32', '6', 'Active', '64'],\n",
              "       ['28-11-2017', '1163', 'Neutral', '35', '7', 'Active', '64'],\n",
              "       ['29-11-2017', '6676', 'Sad', '220', '6', 'Active', '64'],\n",
              "       ['30-11-2017', '3608', 'Happy', '116', '5', 'Active', '64'],\n",
              "       ['01-12-2017', '774', 'Happy', '23', '6', 'Active', '64'],\n",
              "       ['02-12-2017', '1421', 'Happy', '44', '7', 'Active', '64'],\n",
              "       ['03-12-2017', '4064', 'Happy', '131', '8', 'Active', '64'],\n",
              "       ['04-12-2017', '2725', 'Happy', '86', '8', 'Active', '64'],\n",
              "       ['05-12-2017', '5934', 'Happy', '194', '7', 'Active', '64'],\n",
              "       ['06-12-2017', '1867', 'Happy', '60', '8', 'Active', '64'],\n",
              "       ['07-12-2017', '3721', 'Sad', '121', '5', 'Active', '64'],\n",
              "       ['08-12-2017', '2374', 'Neutral', '76', '4', 'Inactive', '64'],\n",
              "       ['09-12-2017', '2909', 'Neutral', '93', '3', 'Active', '64'],\n",
              "       ['10-12-2017', '1648', 'Sad', '53', '3', 'Active', '64'],\n",
              "       ['11-12-2017', '799', 'Sad', '25', '4', 'Inactive', '64'],\n",
              "       ['12-12-2017', '7102', 'Neutral', '227', '5', 'Active', '64'],\n",
              "       ['13-12-2017', '3941', 'Neutral', '125', '5', 'Active', '64'],\n",
              "       ['14-12-2017', '7422', 'Happy', '243', '5', 'Active', '64'],\n",
              "       ['15-12-2017', '437', 'Neutral', '14', '3', 'Active', '64'],\n",
              "       ['16-12-2017', '1231', 'Neutral', '39', '4', 'Active', '64'],\n",
              "       ['17-12-2017', '1696', 'Sad', '55', '4', 'Inactive', '64'],\n",
              "       ['18-12-2017', '4921', 'Neutral', '158', '5', 'Active', '64'],\n",
              "       ['19-12-2017', '221', 'Sad', '7', '5', 'Active', '64'],\n",
              "       ['20-12-2017', '6500', 'Neutral', '213', '5', 'Active', '64'],\n",
              "       ['21-12-2017', '3575', 'Neutral', '116', '5', 'Active', '64'],\n",
              "       ['22-12-2017', '4061', 'Sad', '129', '5', 'Inactive', '64'],\n",
              "       ['23-12-2017', '651', 'Sad', '21', '5', 'Inactive', '64'],\n",
              "       ['24-12-2017', '753', 'Sad', '28', '4', 'Inactive', '64'],\n",
              "       ['25-12-2017', '518', 'Sad', '16', '3', 'Inactive', '64'],\n",
              "       ['26-12-2017', '5537', 'Happy', '180', '4', 'Active', '64'],\n",
              "       ['27-12-2017', '4108', 'Neutral', '138', '5', 'Active', '64'],\n",
              "       ['28-12-2017', '5376', 'Happy', '176', '5', 'Active', '64'],\n",
              "       ['29-12-2017', '3066', 'Neutral', '99', '4', 'Active', '64'],\n",
              "       ['30-12-2017', '177', 'Sad', '5', '5', 'Inactive', '64'],\n",
              "       ['31-12-2017', '36', 'Sad', '1', '3', 'Inactive', '64'],\n",
              "       ['01-01-2018', '299', 'Sad', '10', '3', 'Inactive', '64'],\n",
              "       ['02-01-2018', '1447', 'Neutral', '47', '3', 'Inactive', '64'],\n",
              "       ['03-01-2018', '2599', 'Neutral', '84', '2', 'Inactive', '64'],\n",
              "       ['04-01-2018', '702', 'Sad', '23', '3', 'Inactive', '64'],\n",
              "       ['05-01-2018', '133', 'Sad', '4', '2', 'Inactive', '64'],\n",
              "       ['06-01-2018', '153', 'Happy', '0', '8', 'Inactive', '64'],\n",
              "       ['07-01-2018', '500', 'Neutral', '0', '5', 'Active', '64'],\n",
              "       ['08-01-2018', '2127', 'Neutral', '0', '5', 'Inactive', '64'],\n",
              "       ['09-01-2018', '2203', 'Happy', '0', '5', 'Active', '64']],\n",
              "      dtype='<U10')"
            ]
          },
          "metadata": {},
          "execution_count": 120
        }
      ]
    },
    {
      "cell_type": "code",
      "source": [
        "np.argmax(step_count)"
      ],
      "metadata": {
        "colab": {
          "base_uri": "https://localhost:8080/"
        },
        "id": "15WzWCoDM5vU",
        "outputId": "7836ea27-8c07-4fa9-ff09-dd6b546fcb3c"
      },
      "execution_count": 121,
      "outputs": [
        {
          "output_type": "execute_result",
          "data": {
            "text/plain": [
              "69"
            ]
          },
          "metadata": {},
          "execution_count": 121
        }
      ]
    },
    {
      "cell_type": "code",
      "source": [
        "date[69]"
      ],
      "metadata": {
        "colab": {
          "base_uri": "https://localhost:8080/",
          "height": 35
        },
        "id": "skOhWJrhiLEY",
        "outputId": "261ddd3e-4c38-45b3-ee36-3d0367611e03"
      },
      "execution_count": 122,
      "outputs": [
        {
          "output_type": "execute_result",
          "data": {
            "text/plain": [
              "'14-12-2017'"
            ],
            "application/vnd.google.colaboratory.intrinsic+json": {
              "type": "string"
            }
          },
          "metadata": {},
          "execution_count": 122
        }
      ]
    },
    {
      "cell_type": "markdown",
      "source": [
        "### Date on which maximum steps were taken"
      ],
      "metadata": {
        "id": "Ffq-_J-HhAdR"
      }
    },
    {
      "cell_type": "code",
      "source": [
        "date[np.argmax(step_count)]"
      ],
      "metadata": {
        "colab": {
          "base_uri": "https://localhost:8080/",
          "height": 35
        },
        "id": "x88XDtaeg6Yb",
        "outputId": "e080a188-9704-41b1-cd43-b0c63ffea405"
      },
      "execution_count": 123,
      "outputs": [
        {
          "output_type": "execute_result",
          "data": {
            "text/plain": [
              "'14-12-2017'"
            ],
            "application/vnd.google.colaboratory.intrinsic+json": {
              "type": "string"
            }
          },
          "metadata": {},
          "execution_count": 123
        }
      ]
    },
    {
      "cell_type": "markdown",
      "source": [
        "### Mood when maximum steps were taken"
      ],
      "metadata": {
        "id": "Kb-GrhMRhHgg"
      }
    },
    {
      "cell_type": "code",
      "source": [
        "mood[np.argmax(step_count)]"
      ],
      "metadata": {
        "colab": {
          "base_uri": "https://localhost:8080/",
          "height": 35
        },
        "id": "URAbAskcg99f",
        "outputId": "d19423f1-7390-4831-c646-8975cd680163"
      },
      "execution_count": 124,
      "outputs": [
        {
          "output_type": "execute_result",
          "data": {
            "text/plain": [
              "'Happy'"
            ],
            "application/vnd.google.colaboratory.intrinsic+json": {
              "type": "string"
            }
          },
          "metadata": {},
          "execution_count": 124
        }
      ]
    },
    {
      "cell_type": "markdown",
      "source": [
        "### Calories burnt when maximum steps were taken"
      ],
      "metadata": {
        "id": "d330PVSMha1R"
      }
    },
    {
      "cell_type": "code",
      "source": [
        "calories_burned"
      ],
      "metadata": {
        "colab": {
          "base_uri": "https://localhost:8080/"
        },
        "id": "6DOj8D9mlx-m",
        "outputId": "17ad4e24-6eff-4042-8a23-08119d8952f3"
      },
      "execution_count": 161,
      "outputs": [
        {
          "output_type": "execute_result",
          "data": {
            "text/plain": [
              "array([181, 197,   0, 174, 223, 149, 140,  38,   1,  40, 101, 152, 150,\n",
              "       113,  49,  86,   6,  99, 143, 125, 129,   6,   9,  10,  72, 150,\n",
              "       141, 156,  57,  72,  17, 181, 197, 131, 154, 137, 193,  19, 101,\n",
              "       139, 164, 137,  22,  17,   9, 145, 192, 146, 234, 167,  16,  17,\n",
              "        32,  35, 220, 116,  23,  44, 131,  86, 194,  60, 121,  76,  93,\n",
              "        53,  25, 227, 125, 243,  14,  39,  55, 158,   7, 213, 116, 129,\n",
              "        21,  28,  16, 180, 138, 176,  99,   5,   1,  10,  47,  84,  23,\n",
              "         4,   0,   0,   0,   0])"
            ]
          },
          "metadata": {},
          "execution_count": 161
        }
      ]
    },
    {
      "cell_type": "code",
      "source": [
        "calories_burned[np.argmax(step_count)]\n"
      ],
      "metadata": {
        "colab": {
          "base_uri": "https://localhost:8080/"
        },
        "id": "ApXcpgLbhWNI",
        "outputId": "75331083-a66c-4f66-cf90-e2fd53b29655"
      },
      "execution_count": 162,
      "outputs": [
        {
          "output_type": "execute_result",
          "data": {
            "text/plain": [
              "243"
            ]
          },
          "metadata": {},
          "execution_count": 162
        }
      ]
    },
    {
      "cell_type": "code",
      "source": [
        "np.mean(step_count)"
      ],
      "metadata": {
        "colab": {
          "base_uri": "https://localhost:8080/"
        },
        "id": "fIthhXPchjU5",
        "outputId": "28b8e12a-04f6-40d4-c800-019312c9cc49"
      },
      "execution_count": 126,
      "outputs": [
        {
          "output_type": "execute_result",
          "data": {
            "text/plain": [
              "2935.9375"
            ]
          },
          "metadata": {},
          "execution_count": 126
        }
      ]
    },
    {
      "cell_type": "code",
      "source": [
        "hours_of_sleep=np.array(hours_of_sleep,dtype=\"int\")\n",
        "hours_of_sleep[:5]"
      ],
      "metadata": {
        "colab": {
          "base_uri": "https://localhost:8080/"
        },
        "id": "JhceMpLyicUb",
        "outputId": "3e18b83a-d6bf-405f-d6d5-37cc5302bc88"
      },
      "execution_count": 139,
      "outputs": [
        {
          "output_type": "execute_result",
          "data": {
            "text/plain": [
              "array([5, 8, 5, 4, 5])"
            ]
          },
          "metadata": {},
          "execution_count": 139
        }
      ]
    },
    {
      "cell_type": "code",
      "source": [
        "fit_data"
      ],
      "metadata": {
        "colab": {
          "base_uri": "https://localhost:8080/"
        },
        "id": "9hoNb5t5mAOW",
        "outputId": "7021608e-87f1-4426-eba8-96cf1f6e76a8"
      },
      "execution_count": 140,
      "outputs": [
        {
          "output_type": "execute_result",
          "data": {
            "text/plain": [
              "array([['06-10-2017', '5464', 'Neutral', '181', '5', 'Inactive', '66'],\n",
              "       ['07-10-2017', '6041', 'Sad', '197', '8', 'Inactive', '66'],\n",
              "       ['08-10-2017', '25', 'Sad', '0', '5', 'Inactive', '66'],\n",
              "       ['09-10-2017', '5461', 'Sad', '174', '4', 'Inactive', '66'],\n",
              "       ['10-10-2017', '6915', 'Neutral', '223', '5', 'Active', '66'],\n",
              "       ['11-10-2017', '4545', 'Sad', '149', '6', 'Inactive', '66'],\n",
              "       ['12-10-2017', '4340', 'Sad', '140', '6', 'Inactive', '66'],\n",
              "       ['13-10-2017', '1230', 'Sad', '38', '7', 'Inactive', '66'],\n",
              "       ['14-10-2017', '61', 'Sad', '1', '5', 'Inactive', '66'],\n",
              "       ['15-10-2017', '1258', 'Sad', '40', '6', 'Inactive', '65'],\n",
              "       ['16-10-2017', '3148', 'Sad', '101', '8', 'Inactive', '65'],\n",
              "       ['17-10-2017', '4687', 'Sad', '152', '5', 'Inactive', '65'],\n",
              "       ['18-10-2017', '4732', 'Happy', '150', '6', 'Active', '65'],\n",
              "       ['19-10-2017', '3519', 'Sad', '113', '7', 'Inactive', '65'],\n",
              "       ['20-10-2017', '1580', 'Sad', '49', '5', 'Inactive', '65'],\n",
              "       ['21-10-2017', '2822', 'Sad', '86', '6', 'Inactive', '65'],\n",
              "       ['22-10-2017', '181', 'Sad', '6', '8', 'Inactive', '65'],\n",
              "       ['23-10-2017', '3158', 'Neutral', '99', '5', 'Inactive', '65'],\n",
              "       ['24-10-2017', '4383', 'Neutral', '143', '4', 'Inactive', '64'],\n",
              "       ['25-10-2017', '3881', 'Neutral', '125', '5', 'Inactive', '64'],\n",
              "       ['26-10-2017', '4037', 'Neutral', '129', '6', 'Inactive', '64'],\n",
              "       ['27-10-2017', '202', 'Neutral', '6', '8', 'Inactive', '64'],\n",
              "       ['28-10-2017', '292', 'Neutral', '9', '5', 'Inactive', '64'],\n",
              "       ['29-10-2017', '330', 'Happy', '10', '6', 'Inactive', '64'],\n",
              "       ['30-10-2017', '2209', 'Neutral', '72', '5', 'Inactive', '64'],\n",
              "       ['31-10-2017', '4550', 'Happy', '150', '8', 'Active', '64'],\n",
              "       ['01-11-2017', '4435', 'Happy', '141', '5', 'Inactive', '64'],\n",
              "       ['02-11-2017', '4779', 'Happy', '156', '4', 'Inactive', '64'],\n",
              "       ['03-11-2017', '1831', 'Happy', '57', '5', 'Inactive', '64'],\n",
              "       ['04-11-2017', '2255', 'Happy', '72', '4', 'Inactive', '64'],\n",
              "       ['05-11-2017', '539', 'Happy', '17', '5', 'Active', '64'],\n",
              "       ['06-11-2017', '5464', 'Happy', '181', '4', 'Inactive', '64'],\n",
              "       ['07-11-2017', '6041', 'Neutral', '197', '3', 'Inactive', '64'],\n",
              "       ['08-11-2017', '4068', 'Happy', '131', '2', 'Inactive', '64'],\n",
              "       ['09-11-2017', '4683', 'Happy', '154', '9', 'Inactive', '64'],\n",
              "       ['10-11-2017', '4033', 'Happy', '137', '5', 'Inactive', '64'],\n",
              "       ['11-11-2017', '6314', 'Happy', '193', '6', 'Active', '64'],\n",
              "       ['12-11-2017', '614', 'Happy', '19', '4', 'Active', '64'],\n",
              "       ['13-11-2017', '3149', 'Happy', '101', '5', 'Active', '64'],\n",
              "       ['14-11-2017', '4005', 'Happy', '139', '8', 'Active', '64'],\n",
              "       ['15-11-2017', '4880', 'Happy', '164', '4', 'Active', '64'],\n",
              "       ['16-11-2017', '4136', 'Happy', '137', '5', 'Active', '64'],\n",
              "       ['17-11-2017', '705', 'Happy', '22', '6', 'Active', '64'],\n",
              "       ['18-11-2017', '570', 'Neutral', '17', '5', 'Active', '64'],\n",
              "       ['19-11-2017', '269', 'Happy', '9', '6', 'Active', '64'],\n",
              "       ['20-11-2017', '4275', 'Happy', '145', '5', 'Inactive', '64'],\n",
              "       ['21-11-2017', '5999', 'Happy', '192', '6', 'Inactive', '64'],\n",
              "       ['22-11-2017', '4421', 'Happy', '146', '5', 'Inactive', '64'],\n",
              "       ['23-11-2017', '6930', 'Happy', '234', '6', 'Inactive', '64'],\n",
              "       ['24-11-2017', '5195', 'Happy', '167', '5', 'Inactive', '64'],\n",
              "       ['25-11-2017', '546', 'Happy', '16', '6', 'Inactive', '64'],\n",
              "       ['26-11-2017', '493', 'Happy', '17', '7', 'Active', '64'],\n",
              "       ['27-11-2017', '995', 'Happy', '32', '6', 'Active', '64'],\n",
              "       ['28-11-2017', '1163', 'Neutral', '35', '7', 'Active', '64'],\n",
              "       ['29-11-2017', '6676', 'Sad', '220', '6', 'Active', '64'],\n",
              "       ['30-11-2017', '3608', 'Happy', '116', '5', 'Active', '64'],\n",
              "       ['01-12-2017', '774', 'Happy', '23', '6', 'Active', '64'],\n",
              "       ['02-12-2017', '1421', 'Happy', '44', '7', 'Active', '64'],\n",
              "       ['03-12-2017', '4064', 'Happy', '131', '8', 'Active', '64'],\n",
              "       ['04-12-2017', '2725', 'Happy', '86', '8', 'Active', '64'],\n",
              "       ['05-12-2017', '5934', 'Happy', '194', '7', 'Active', '64'],\n",
              "       ['06-12-2017', '1867', 'Happy', '60', '8', 'Active', '64'],\n",
              "       ['07-12-2017', '3721', 'Sad', '121', '5', 'Active', '64'],\n",
              "       ['08-12-2017', '2374', 'Neutral', '76', '4', 'Inactive', '64'],\n",
              "       ['09-12-2017', '2909', 'Neutral', '93', '3', 'Active', '64'],\n",
              "       ['10-12-2017', '1648', 'Sad', '53', '3', 'Active', '64'],\n",
              "       ['11-12-2017', '799', 'Sad', '25', '4', 'Inactive', '64'],\n",
              "       ['12-12-2017', '7102', 'Neutral', '227', '5', 'Active', '64'],\n",
              "       ['13-12-2017', '3941', 'Neutral', '125', '5', 'Active', '64'],\n",
              "       ['14-12-2017', '7422', 'Happy', '243', '5', 'Active', '64'],\n",
              "       ['15-12-2017', '437', 'Neutral', '14', '3', 'Active', '64'],\n",
              "       ['16-12-2017', '1231', 'Neutral', '39', '4', 'Active', '64'],\n",
              "       ['17-12-2017', '1696', 'Sad', '55', '4', 'Inactive', '64'],\n",
              "       ['18-12-2017', '4921', 'Neutral', '158', '5', 'Active', '64'],\n",
              "       ['19-12-2017', '221', 'Sad', '7', '5', 'Active', '64'],\n",
              "       ['20-12-2017', '6500', 'Neutral', '213', '5', 'Active', '64'],\n",
              "       ['21-12-2017', '3575', 'Neutral', '116', '5', 'Active', '64'],\n",
              "       ['22-12-2017', '4061', 'Sad', '129', '5', 'Inactive', '64'],\n",
              "       ['23-12-2017', '651', 'Sad', '21', '5', 'Inactive', '64'],\n",
              "       ['24-12-2017', '753', 'Sad', '28', '4', 'Inactive', '64'],\n",
              "       ['25-12-2017', '518', 'Sad', '16', '3', 'Inactive', '64'],\n",
              "       ['26-12-2017', '5537', 'Happy', '180', '4', 'Active', '64'],\n",
              "       ['27-12-2017', '4108', 'Neutral', '138', '5', 'Active', '64'],\n",
              "       ['28-12-2017', '5376', 'Happy', '176', '5', 'Active', '64'],\n",
              "       ['29-12-2017', '3066', 'Neutral', '99', '4', 'Active', '64'],\n",
              "       ['30-12-2017', '177', 'Sad', '5', '5', 'Inactive', '64'],\n",
              "       ['31-12-2017', '36', 'Sad', '1', '3', 'Inactive', '64'],\n",
              "       ['01-01-2018', '299', 'Sad', '10', '3', 'Inactive', '64'],\n",
              "       ['02-01-2018', '1447', 'Neutral', '47', '3', 'Inactive', '64'],\n",
              "       ['03-01-2018', '2599', 'Neutral', '84', '2', 'Inactive', '64'],\n",
              "       ['04-01-2018', '702', 'Sad', '23', '3', 'Inactive', '64'],\n",
              "       ['05-01-2018', '133', 'Sad', '4', '2', 'Inactive', '64'],\n",
              "       ['06-01-2018', '153', 'Happy', '0', '8', 'Inactive', '64'],\n",
              "       ['07-01-2018', '500', 'Neutral', '0', '5', 'Active', '64'],\n",
              "       ['08-01-2018', '2127', 'Neutral', '0', '5', 'Inactive', '64'],\n",
              "       ['09-01-2018', '2203', 'Happy', '0', '5', 'Active', '64']],\n",
              "      dtype='<U10')"
            ]
          },
          "metadata": {},
          "execution_count": 140
        }
      ]
    },
    {
      "cell_type": "code",
      "source": [
        "step_count"
      ],
      "metadata": {
        "colab": {
          "base_uri": "https://localhost:8080/"
        },
        "id": "saK2IjiemKvy",
        "outputId": "51ddcaa8-92f6-411e-bab3-7fc5f828da14"
      },
      "execution_count": 132,
      "outputs": [
        {
          "output_type": "execute_result",
          "data": {
            "text/plain": [
              "array([5464, 6041,   25, 5461, 6915, 4545, 4340, 1230,   61, 1258, 3148,\n",
              "       4687, 4732, 3519, 1580, 2822,  181, 3158, 4383, 3881, 4037,  202,\n",
              "        292,  330, 2209, 4550, 4435, 4779, 1831, 2255,  539, 5464, 6041,\n",
              "       4068, 4683, 4033, 6314,  614, 3149, 4005, 4880, 4136,  705,  570,\n",
              "        269, 4275, 5999, 4421, 6930, 5195,  546,  493,  995, 1163, 6676,\n",
              "       3608,  774, 1421, 4064, 2725, 5934, 1867, 3721, 2374, 2909, 1648,\n",
              "        799, 7102, 3941, 7422,  437, 1231, 1696, 4921,  221, 6500, 3575,\n",
              "       4061,  651,  753,  518, 5537, 4108, 5376, 3066,  177,   36,  299,\n",
              "       1447, 2599,  702,  133,  153,  500, 2127, 2203])"
            ]
          },
          "metadata": {},
          "execution_count": 132
        }
      ]
    },
    {
      "cell_type": "markdown",
      "source": [
        "### Frequency of mood variable when the step count is greater than 4500"
      ],
      "metadata": {
        "id": "h8q5sf00oayI"
      }
    },
    {
      "cell_type": "code",
      "source": [
        "mood[step_count>4500]"
      ],
      "metadata": {
        "colab": {
          "base_uri": "https://localhost:8080/"
        },
        "id": "rK6h0gOfmLDa",
        "outputId": "1e417dc7-4d29-4f18-d11a-669f89f5411a"
      },
      "execution_count": 164,
      "outputs": [
        {
          "output_type": "execute_result",
          "data": {
            "text/plain": [
              "array(['Neutral', 'Sad', 'Sad', 'Neutral', 'Sad', 'Sad', 'Happy', 'Happy',\n",
              "       'Happy', 'Happy', 'Neutral', 'Happy', 'Happy', 'Happy', 'Happy',\n",
              "       'Happy', 'Happy', 'Sad', 'Happy', 'Neutral', 'Happy', 'Neutral',\n",
              "       'Neutral', 'Happy', 'Happy'], dtype='<U10')"
            ]
          },
          "metadata": {},
          "execution_count": 164
        }
      ]
    },
    {
      "cell_type": "code",
      "source": [
        "np.unique(mood[step_count>4500],return_counts=True)"
      ],
      "metadata": {
        "colab": {
          "base_uri": "https://localhost:8080/"
        },
        "id": "6SfjcbORmLGC",
        "outputId": "b56a2d06-2334-437f-c646-01136ba61f2e"
      },
      "execution_count": 165,
      "outputs": [
        {
          "output_type": "execute_result",
          "data": {
            "text/plain": [
              "(array(['Happy', 'Neutral', 'Sad'], dtype='<U10'), array([14,  6,  5]))"
            ]
          },
          "metadata": {},
          "execution_count": 165
        }
      ]
    },
    {
      "cell_type": "code",
      "source": [
        "hours_of_sleep = np.array(hours_of_sleep,dtype=int)"
      ],
      "metadata": {
        "id": "pc4iHGP_pryu"
      },
      "execution_count": 167,
      "outputs": []
    },
    {
      "cell_type": "code",
      "source": [
        "np.mean(hours_of_sleep)"
      ],
      "metadata": {
        "colab": {
          "base_uri": "https://localhost:8080/"
        },
        "id": "sqysJIjpmLIt",
        "outputId": "b0d6254c-8b84-4dad-a55e-91c7e2b785c2"
      },
      "execution_count": 169,
      "outputs": [
        {
          "output_type": "execute_result",
          "data": {
            "text/plain": [
              "5.21875"
            ]
          },
          "metadata": {},
          "execution_count": 169
        }
      ]
    },
    {
      "cell_type": "code",
      "source": [
        "arr = np.array([-3,4,27,34,-2, 0, -45,-11,4, 0 ])\n",
        "arr"
      ],
      "metadata": {
        "colab": {
          "base_uri": "https://localhost:8080/"
        },
        "id": "29t4vjeemLKs",
        "outputId": "05cac76a-5619-447f-cca4-074077e9a228"
      },
      "execution_count": 170,
      "outputs": [
        {
          "output_type": "execute_result",
          "data": {
            "text/plain": [
              "array([ -3,   4,  27,  34,  -2,   0, -45, -11,   4,   0])"
            ]
          },
          "metadata": {},
          "execution_count": 170
        }
      ]
    },
    {
      "cell_type": "code",
      "source": [
        "arr[arr>0] = 1"
      ],
      "metadata": {
        "id": "TDn5VCNewV1E"
      },
      "execution_count": 171,
      "outputs": []
    },
    {
      "cell_type": "code",
      "source": [
        "arr"
      ],
      "metadata": {
        "colab": {
          "base_uri": "https://localhost:8080/"
        },
        "id": "o0wNgFn6wcwA",
        "outputId": "97bd1f37-9640-43cd-d14f-9cf68aafb20f"
      },
      "execution_count": 172,
      "outputs": [
        {
          "output_type": "execute_result",
          "data": {
            "text/plain": [
              "array([ -3,   1,   1,   1,  -2,   0, -45, -11,   1,   0])"
            ]
          },
          "metadata": {},
          "execution_count": 172
        }
      ]
    },
    {
      "cell_type": "code",
      "source": [
        "arr[arr<0] = -1"
      ],
      "metadata": {
        "id": "vQBbsYIVwdkf"
      },
      "execution_count": 173,
      "outputs": []
    },
    {
      "cell_type": "code",
      "source": [
        "arr"
      ],
      "metadata": {
        "colab": {
          "base_uri": "https://localhost:8080/"
        },
        "id": "kjdaMfmswg7z",
        "outputId": "0388a624-fb7f-4a2a-8b97-8490fcaaca55"
      },
      "execution_count": 174,
      "outputs": [
        {
          "output_type": "execute_result",
          "data": {
            "text/plain": [
              "array([-1,  1,  1,  1, -1,  0, -1, -1,  1,  0])"
            ]
          },
          "metadata": {},
          "execution_count": 174
        }
      ]
    },
    {
      "cell_type": "code",
      "source": [
        "arr = np.array([-3,4,27,34,-2, 0, -45,-11,4, 0 ])\n",
        "arr"
      ],
      "metadata": {
        "colab": {
          "base_uri": "https://localhost:8080/"
        },
        "id": "55VuVc8swiVh",
        "outputId": "68fea5d0-9426-4fb9-fe74-158bc1a69d7b"
      },
      "execution_count": 175,
      "outputs": [
        {
          "output_type": "execute_result",
          "data": {
            "text/plain": [
              "array([ -3,   4,  27,  34,  -2,   0, -45, -11,   4,   0])"
            ]
          },
          "metadata": {},
          "execution_count": 175
        }
      ]
    },
    {
      "cell_type": "code",
      "source": [
        "arr1 = np.where(arr > 0,1,-1)"
      ],
      "metadata": {
        "id": "VZK655G_wkgE"
      },
      "execution_count": 176,
      "outputs": []
    },
    {
      "cell_type": "code",
      "source": [
        "arr1"
      ],
      "metadata": {
        "colab": {
          "base_uri": "https://localhost:8080/"
        },
        "id": "oT_5XO7Tw1I2",
        "outputId": "a900b4cf-fd7d-430b-e1e5-ddb05bd65954"
      },
      "execution_count": 177,
      "outputs": [
        {
          "output_type": "execute_result",
          "data": {
            "text/plain": [
              "array([-1,  1,  1,  1, -1, -1, -1, -1,  1, -1])"
            ]
          },
          "metadata": {},
          "execution_count": 177
        }
      ]
    },
    {
      "cell_type": "code",
      "source": [
        "a=np.arange(1,10).reshape((3,3))\n",
        "a"
      ],
      "metadata": {
        "colab": {
          "base_uri": "https://localhost:8080/"
        },
        "id": "kePXnEr3w2K-",
        "outputId": "a9b137a0-445b-4a0b-99f1-3d324ee005c1"
      },
      "execution_count": 178,
      "outputs": [
        {
          "output_type": "execute_result",
          "data": {
            "text/plain": [
              "array([[1, 2, 3],\n",
              "       [4, 5, 6],\n",
              "       [7, 8, 9]])"
            ]
          },
          "metadata": {},
          "execution_count": 178
        }
      ]
    },
    {
      "cell_type": "code",
      "source": [
        "b=np.arange(2,11).reshape((3,3))\n",
        "b"
      ],
      "metadata": {
        "colab": {
          "base_uri": "https://localhost:8080/"
        },
        "id": "s4z5iu_zzrpD",
        "outputId": "62d64a6d-0246-47d0-b765-2cb1a63d24ec"
      },
      "execution_count": 179,
      "outputs": [
        {
          "output_type": "execute_result",
          "data": {
            "text/plain": [
              "array([[ 2,  3,  4],\n",
              "       [ 5,  6,  7],\n",
              "       [ 8,  9, 10]])"
            ]
          },
          "metadata": {},
          "execution_count": 179
        }
      ]
    },
    {
      "cell_type": "markdown",
      "source": [
        "### np.matmul & np.dot are used for matrix multiplication"
      ],
      "metadata": {
        "id": "wJgNoJoV1hJt"
      }
    },
    {
      "cell_type": "code",
      "source": [
        "np.matmul(a,b)"
      ],
      "metadata": {
        "colab": {
          "base_uri": "https://localhost:8080/"
        },
        "id": "COc3ZfoWzsrd",
        "outputId": "d9e3a37a-48d4-4c59-e131-dc03134fd9f8"
      },
      "execution_count": 180,
      "outputs": [
        {
          "output_type": "execute_result",
          "data": {
            "text/plain": [
              "array([[ 36,  42,  48],\n",
              "       [ 81,  96, 111],\n",
              "       [126, 150, 174]])"
            ]
          },
          "metadata": {},
          "execution_count": 180
        }
      ]
    },
    {
      "cell_type": "code",
      "source": [
        "np.matmul(b,a)"
      ],
      "metadata": {
        "colab": {
          "base_uri": "https://localhost:8080/"
        },
        "id": "ntmbkT8Ozso4",
        "outputId": "7bb8736d-c761-4487-cb50-4051ee185c40"
      },
      "execution_count": 181,
      "outputs": [
        {
          "output_type": "execute_result",
          "data": {
            "text/plain": [
              "array([[ 42,  51,  60],\n",
              "       [ 78,  96, 114],\n",
              "       [114, 141, 168]])"
            ]
          },
          "metadata": {},
          "execution_count": 181
        }
      ]
    },
    {
      "cell_type": "code",
      "source": [
        "a@b"
      ],
      "metadata": {
        "colab": {
          "base_uri": "https://localhost:8080/"
        },
        "id": "Y6BdyqTOzsmR",
        "outputId": "f48623a8-fefa-4273-bff9-cd483a33e477"
      },
      "execution_count": 182,
      "outputs": [
        {
          "output_type": "execute_result",
          "data": {
            "text/plain": [
              "array([[ 36,  42,  48],\n",
              "       [ 81,  96, 111],\n",
              "       [126, 150, 174]])"
            ]
          },
          "metadata": {},
          "execution_count": 182
        }
      ]
    },
    {
      "cell_type": "code",
      "source": [
        "b@a"
      ],
      "metadata": {
        "colab": {
          "base_uri": "https://localhost:8080/"
        },
        "id": "l3Dgh0yxzshI",
        "outputId": "33c3c69d-91bf-4c77-cf52-85825fed77f9"
      },
      "execution_count": 183,
      "outputs": [
        {
          "output_type": "execute_result",
          "data": {
            "text/plain": [
              "array([[ 42,  51,  60],\n",
              "       [ 78,  96, 114],\n",
              "       [114, 141, 168]])"
            ]
          },
          "metadata": {},
          "execution_count": 183
        }
      ]
    },
    {
      "cell_type": "code",
      "source": [
        "np.dot(a,b)"
      ],
      "metadata": {
        "colab": {
          "base_uri": "https://localhost:8080/"
        },
        "id": "lv8TNzqQzseX",
        "outputId": "16db1e7c-bc09-4241-e6a3-80c399039601"
      },
      "execution_count": 184,
      "outputs": [
        {
          "output_type": "execute_result",
          "data": {
            "text/plain": [
              "array([[ 36,  42,  48],\n",
              "       [ 81,  96, 111],\n",
              "       [126, 150, 174]])"
            ]
          },
          "metadata": {},
          "execution_count": 184
        }
      ]
    },
    {
      "cell_type": "markdown",
      "source": [
        "### There is a slight difference between np.dot() & np.matmul() is that, np.dot() would work for scalar multiplication, but np.matmul() wouldnt"
      ],
      "metadata": {
        "id": "t6oy6f3T1RwL"
      }
    },
    {
      "cell_type": "code",
      "source": [
        "np.dot(4,5)"
      ],
      "metadata": {
        "colab": {
          "base_uri": "https://localhost:8080/"
        },
        "id": "3unLXsDfzsbL",
        "outputId": "d70e97dc-d230-466f-8c49-3ab63f886de8"
      },
      "execution_count": 185,
      "outputs": [
        {
          "output_type": "execute_result",
          "data": {
            "text/plain": [
              "20"
            ]
          },
          "metadata": {},
          "execution_count": 185
        }
      ]
    },
    {
      "cell_type": "code",
      "source": [
        "np.matmul(5,6)"
      ],
      "metadata": {
        "colab": {
          "base_uri": "https://localhost:8080/",
          "height": 165
        },
        "id": "w9EMYKpbzsYa",
        "outputId": "968bfd17-2259-47e1-9677-4e43f4652f27"
      },
      "execution_count": 186,
      "outputs": [
        {
          "output_type": "error",
          "ename": "ValueError",
          "evalue": "ignored",
          "traceback": [
            "\u001b[0;31m---------------------------------------------------------------------------\u001b[0m",
            "\u001b[0;31mValueError\u001b[0m                                Traceback (most recent call last)",
            "\u001b[0;32m<ipython-input-186-2873bbb28e24>\u001b[0m in \u001b[0;36m<module>\u001b[0;34m\u001b[0m\n\u001b[0;32m----> 1\u001b[0;31m \u001b[0mnp\u001b[0m\u001b[0;34m.\u001b[0m\u001b[0mmatmul\u001b[0m\u001b[0;34m(\u001b[0m\u001b[0;36m5\u001b[0m\u001b[0;34m,\u001b[0m\u001b[0;36m6\u001b[0m\u001b[0;34m)\u001b[0m\u001b[0;34m\u001b[0m\u001b[0;34m\u001b[0m\u001b[0m\n\u001b[0m",
            "\u001b[0;31mValueError\u001b[0m: matmul: Input operand 0 does not have enough dimensions (has 0, gufunc core with signature (n?,k),(k,m?)->(n?,m?) requires 1)"
          ]
        }
      ]
    },
    {
      "cell_type": "code",
      "source": [
        "np.tile(a,(2,2))"
      ],
      "metadata": {
        "colab": {
          "base_uri": "https://localhost:8080/"
        },
        "id": "92DyZwSz1QGi",
        "outputId": "85f07272-8aa4-4210-f312-ae51f4002039"
      },
      "execution_count": 187,
      "outputs": [
        {
          "output_type": "execute_result",
          "data": {
            "text/plain": [
              "array([[1, 2, 3, 1, 2, 3],\n",
              "       [4, 5, 6, 4, 5, 6],\n",
              "       [7, 8, 9, 7, 8, 9],\n",
              "       [1, 2, 3, 1, 2, 3],\n",
              "       [4, 5, 6, 4, 5, 6],\n",
              "       [7, 8, 9, 7, 8, 9]])"
            ]
          },
          "metadata": {},
          "execution_count": 187
        }
      ]
    }
  ]
}