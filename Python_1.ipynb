{
  "nbformat": 4,
  "nbformat_minor": 0,
  "metadata": {
    "colab": {
      "provenance": [],
      "authorship_tag": "ABX9TyMfymkVoYvOh3wJNDJiIgWS",
      "include_colab_link": true
    },
    "kernelspec": {
      "name": "python3",
      "display_name": "Python 3"
    },
    "language_info": {
      "name": "python"
    }
  },
  "cells": [
    {
      "cell_type": "markdown",
      "metadata": {
        "id": "view-in-github",
        "colab_type": "text"
      },
      "source": [
        "<a href=\"https://colab.research.google.com/github/rprakashiyer/Python/blob/main/Python_1.ipynb\" target=\"_parent\"><img src=\"https://colab.research.google.com/assets/colab-badge.svg\" alt=\"Open In Colab\"/></a>"
      ]
    },
    {
      "cell_type": "markdown",
      "source": [],
      "metadata": {
        "id": "C9fvdlbfJbPy"
      }
    },
    {
      "cell_type": "code",
      "source": [
        "print(\"Hi How are you? This is my first Python Practise book\")"
      ],
      "metadata": {
        "colab": {
          "base_uri": "https://localhost:8080/"
        },
        "id": "YUo_W13sJa1x",
        "outputId": "311095e3-d49e-4043-9d26-e2b95bdcbcc7"
      },
      "execution_count": 3,
      "outputs": [
        {
          "output_type": "stream",
          "name": "stdout",
          "text": [
            "Hi How are you? This is my first Python Practise book\n"
          ]
        }
      ]
    },
    {
      "cell_type": "markdown",
      "source": [
        "Using Operators, and Print function"
      ],
      "metadata": {
        "id": "VW1couumJLeT"
      }
    },
    {
      "cell_type": "code",
      "execution_count": 1,
      "metadata": {
        "colab": {
          "base_uri": "https://localhost:8080/"
        },
        "id": "ID57t7ELI49z",
        "outputId": "1d326be0-4398-4d0f-c984-114f2ad4f88f"
      },
      "outputs": [
        {
          "output_type": "stream",
          "name": "stdout",
          "text": [
            "Enter a number:10\n",
            "Enter a number:5\n",
            "Add is : 15.0\n",
            "Sub is : 5.0\n",
            "mul is : 50.0\n",
            "div is : 2.0\n",
            "mod is : 0.0\n",
            "coeff is : 2.0\n"
          ]
        }
      ],
      "source": [
        "a = float(input(\"Enter a number:\"))\n",
        "\n",
        "b = int(input(\"Enter a number:\"))\n",
        "\n",
        "add = a + b\n",
        "\n",
        "sub = a - b\n",
        "\n",
        "mul = a * b\n",
        "\n",
        "div = a/b\n",
        "\n",
        "mod = a%b\n",
        "\n",
        "coeffi = a//b\n",
        "\n",
        "print(\"Add is :\",add)\n",
        "\n",
        "print(\"Sub is :\",sub)\n",
        "\n",
        "print(\"mul is :\",mul)\n",
        "\n",
        "print(\"div is :\",div)\n",
        "\n",
        "print(\"mod is :\",mod)\n",
        "\n",
        "print(\"coeff is :\",coeffi)\n"
      ]
    },
    {
      "cell_type": "markdown",
      "source": [
        "Printing Strings"
      ],
      "metadata": {
        "id": "Ge3P9hERJM9l"
      }
    },
    {
      "cell_type": "code",
      "source": [
        "str1 = 'I am a single quote string'\n",
        "str2 = \"I am a double quote string\"\n",
        "str3 = '''I am a triple quote string'''\n",
        "\n",
        "print(\"String1 is: \",str1)\n",
        "print(\"String2 is: \",str2)\n",
        "print(\"String3 is: \",str3)\n",
        "print(\"***************************************\")"
      ],
      "metadata": {
        "colab": {
          "base_uri": "https://localhost:8080/"
        },
        "id": "0McW3bq4I9xq",
        "outputId": "bcdccf07-dfee-437f-95be-29e7c2934baa"
      },
      "execution_count": 2,
      "outputs": [
        {
          "output_type": "stream",
          "name": "stdout",
          "text": [
            "String1 is:  I am a single quote string\n",
            "String2 is:  I am a double quote string\n",
            "String3 is:  I am a triple quote string\n",
            "***************************************\n"
          ]
        }
      ]
    },
    {
      "cell_type": "code",
      "source": [
        "items =20\n",
        "price=30.5\n",
        "name=\"potato\"\n",
        "\n",
        "x,y,z=10,20,30\n",
        "a,b,c=100,98.6,\"Hello World\"\n",
        "\n",
        "print(\"Hi\",name,\"the no. of\",items,\"items price is:\",price)\n",
        "\n",
        "print(\"Hi %s the no. of %d items price is %f\" %(name, items, price))\n",
        "\n",
        "print(\"x is:\",x,\"\\ny is:\",y,\"\\n z is :\",z)\n",
        "\n",
        "print(\"a is :\",a, \"\\nb is: \",b, \"\\nc is :\",c)"
      ],
      "metadata": {
        "colab": {
          "base_uri": "https://localhost:8080/"
        },
        "id": "q6PY1RC2Jz_P",
        "outputId": "c9b03164-0e67-4629-c817-6381f978e4b4"
      },
      "execution_count": 4,
      "outputs": [
        {
          "output_type": "stream",
          "name": "stdout",
          "text": [
            "Hi potato the no. of 20 items price is: 30.5\n",
            "Hi potato the no. of 20 items price is 30.500000\n",
            "x is: 10 \n",
            "y is: 20 \n",
            " z is : 30\n",
            "a is : 100 \n",
            "b is:  98.6 \n",
            "c is : Hello World\n"
          ]
        }
      ]
    },
    {
      "cell_type": "markdown",
      "source": [
        "Bitwise Operation (Observe the Output)"
      ],
      "metadata": {
        "id": "3JO-_NPtRyKn"
      }
    },
    {
      "cell_type": "code",
      "source": [
        "a = int(input(\"Enter a number:\"))\n",
        "b = int(input(\"Enter b numbmber:\"))\n",
        "\n",
        "x = int(input(\"Enter x number:\"))\n",
        "\n",
        "print(\"Bitwise and:\", a & b)\n",
        "\n",
        "print(\"Bitwise or:\", a | b)\n",
        "\n",
        "print(\"Bitwise xor:\", a ^ b)\n",
        "\n",
        "print(\"Bitwise not:\", ~a)\n",
        "\n",
        "print(\"Bitwise left shift:\", x << 2)\n",
        "\n",
        "print(\"Bitwise right shift:\", x >> 2)"
      ],
      "metadata": {
        "colab": {
          "base_uri": "https://localhost:8080/"
        },
        "id": "vvBeCNpMRysc",
        "outputId": "90e4ffb2-2cdd-40a6-989f-d15306a1ece3"
      },
      "execution_count": 5,
      "outputs": [
        {
          "output_type": "stream",
          "name": "stdout",
          "text": [
            "Enter a number:6\n",
            "Enter b numbmber:4\n",
            "Enter x number:2\n",
            "Bitwise and: 4\n",
            "Bitwise or: 6\n",
            "Bitwise xor: 2\n",
            "Bitwise not: -7\n",
            "Bitwise left shift: 8\n",
            "Bitwise right shift: 0\n"
          ]
        }
      ]
    },
    {
      "cell_type": "markdown",
      "source": [
        "If Statement usage"
      ],
      "metadata": {
        "id": "uvEw1pdHUUpP"
      }
    },
    {
      "cell_type": "code",
      "source": [
        "age = int(input(\"Enter an age :\"))\n",
        "\n",
        "if age >= 18:\n",
        "    print(\"Person eligible for vote\")\n",
        "print(\"Person not eligible for vote\")"
      ],
      "metadata": {
        "colab": {
          "base_uri": "https://localhost:8080/"
        },
        "id": "gfo7eLSpUUQQ",
        "outputId": "3bc71e31-5ef7-4018-e26c-bc7960203f21"
      },
      "execution_count": 13,
      "outputs": [
        {
          "output_type": "stream",
          "name": "stdout",
          "text": [
            "Enter an age :34\n",
            "Person eligible for vote\n",
            "Person not eligible for vote\n"
          ]
        }
      ]
    },
    {
      "cell_type": "code",
      "source": [
        "age = int(input(\"Enter an age:\"))\n",
        "\n",
        "if age >= 18:\n",
        "    print(\"Person eligible for vote\")\n",
        "else:\n",
        "    print(\"Person not eligible for vote\")"
      ],
      "metadata": {
        "colab": {
          "base_uri": "https://localhost:8080/"
        },
        "id": "9k25U73iUUM2",
        "outputId": "73d740bf-f7f3-4741-bf48-a7c7e9f2cedc"
      },
      "execution_count": 14,
      "outputs": [
        {
          "output_type": "stream",
          "name": "stdout",
          "text": [
            "Enter an age:29\n",
            "Person eligible for vote\n"
          ]
        }
      ]
    },
    {
      "cell_type": "markdown",
      "source": [
        "Membership Operator usage"
      ],
      "metadata": {
        "id": "08wRAYcnU1Xx"
      }
    },
    {
      "cell_type": "code",
      "source": [
        "string = \"Besant\"\n",
        "\n",
        "res = \"Be\" in string\n",
        "\n",
        "res1 = \"f\" in string\n",
        "\n",
        "res2 = \"k\" not in string\n",
        "\n",
        "res3 = \"B\" not in string\n",
        "\n",
        "print(\"Res:\",res)\n",
        "\n",
        "print(\"Res1:\",res1)\n",
        "\n",
        "print(\"Res2:\",res2)\n",
        "\n",
        "print(\"Res3:\",res3)"
      ],
      "metadata": {
        "colab": {
          "base_uri": "https://localhost:8080/"
        },
        "id": "qQfF7jHXUUJx",
        "outputId": "e003cdf1-8043-4823-9ded-60ed552038ba"
      },
      "execution_count": 15,
      "outputs": [
        {
          "output_type": "stream",
          "name": "stdout",
          "text": [
            "Res: True\n",
            "Res1: False\n",
            "Res2: True\n",
            "Res3: False\n"
          ]
        }
      ]
    },
    {
      "cell_type": "markdown",
      "source": [
        "How to Break statement in a loop"
      ],
      "metadata": {
        "id": "EZl25rd3SkZQ"
      }
    },
    {
      "cell_type": "code",
      "source": [
        "for i in range(1,6):\n",
        "    if i == 3:\n",
        "        break\n",
        "    print(\"i is:\",i)"
      ],
      "metadata": {
        "colab": {
          "base_uri": "https://localhost:8080/"
        },
        "id": "f536qOeLRzRQ",
        "outputId": "173a49d8-deab-4632-bce1-01d9b1919f86"
      },
      "execution_count": 6,
      "outputs": [
        {
          "output_type": "stream",
          "name": "stdout",
          "text": [
            "i is: 1\n",
            "i is: 2\n"
          ]
        }
      ]
    },
    {
      "cell_type": "markdown",
      "source": [
        "How to use Continue statement in a loop"
      ],
      "metadata": {
        "id": "wNxt7tHNSoV4"
      }
    },
    {
      "cell_type": "code",
      "source": [
        "for i in range(1,6):\n",
        "    if i == 3:\n",
        "        continue\n",
        "    print(\"i is :\",i)"
      ],
      "metadata": {
        "colab": {
          "base_uri": "https://localhost:8080/"
        },
        "id": "uREaTM8IRzN5",
        "outputId": "8742af97-e8ad-4007-8097-290883e54f02"
      },
      "execution_count": 7,
      "outputs": [
        {
          "output_type": "stream",
          "name": "stdout",
          "text": [
            "i is : 1\n",
            "i is : 2\n",
            "i is : 4\n",
            "i is : 5\n"
          ]
        }
      ]
    },
    {
      "cell_type": "markdown",
      "source": [
        "For Loop Examples"
      ],
      "metadata": {
        "id": "DFd5QfKzS8Sk"
      }
    },
    {
      "cell_type": "code",
      "source": [
        "for i in range(5):\n",
        "    print(\"Value is :\",i)\n",
        "print(\"************************\")\n",
        "\n",
        "for j in range(1,5):\n",
        "    print(\"Value is :\",j)\n",
        "print(\"------------------------\")\n",
        "\n",
        "for k in range(1,10,2):\n",
        "    print(\"Value is :\",k)"
      ],
      "metadata": {
        "colab": {
          "base_uri": "https://localhost:8080/"
        },
        "id": "jR0obgc0RzK9",
        "outputId": "dba4c7f2-d0ac-45ee-ad3b-6e833a577640"
      },
      "execution_count": 8,
      "outputs": [
        {
          "output_type": "stream",
          "name": "stdout",
          "text": [
            "Value is : 0\n",
            "Value is : 1\n",
            "Value is : 2\n",
            "Value is : 3\n",
            "Value is : 4\n",
            "************************\n",
            "Value is : 1\n",
            "Value is : 2\n",
            "Value is : 3\n",
            "Value is : 4\n",
            "------------------------\n",
            "Value is : 1\n",
            "Value is : 3\n",
            "Value is : 5\n",
            "Value is : 7\n",
            "Value is : 9\n"
          ]
        }
      ]
    },
    {
      "cell_type": "markdown",
      "source": [
        "Pass Statement usage"
      ],
      "metadata": {
        "id": "PwH5HQsbTLIo"
      }
    },
    {
      "cell_type": "code",
      "source": [
        "for i in range(1,100):\n",
        "    pass"
      ],
      "metadata": {
        "id": "bvNePq6URzHp"
      },
      "execution_count": 9,
      "outputs": []
    },
    {
      "cell_type": "markdown",
      "source": [
        "Usage of Relational Operator"
      ],
      "metadata": {
        "id": "7-KjA6deTYtk"
      }
    },
    {
      "cell_type": "code",
      "source": [
        "a = 10\n",
        "\n",
        "b = 20\n",
        "\n",
        "print(\"less than is:\",a<b)\n",
        "\n",
        "print(\"greater than is:\",a>b)\n",
        "\n",
        "print(\"less than equal to :\",a<=b)\n",
        "\n",
        "print(\"greater than equal to :\",a>=b)\n",
        "\n",
        "print(\"not equal to :\", a!=b)\n",
        "\n",
        "print(\"equal to :\",a==b)"
      ],
      "metadata": {
        "colab": {
          "base_uri": "https://localhost:8080/"
        },
        "id": "Iv5HDORhRzEl",
        "outputId": "5ab6dd82-90f7-4701-deff-2822029f0b12"
      },
      "execution_count": 10,
      "outputs": [
        {
          "output_type": "stream",
          "name": "stdout",
          "text": [
            "less than is: True\n",
            "greater than is: False\n",
            "less than equal to : True\n",
            "greater than equal to : False\n",
            "not equal to : True\n",
            "equal to : False\n"
          ]
        }
      ]
    },
    {
      "cell_type": "markdown",
      "source": [
        "While Loop EXample"
      ],
      "metadata": {
        "id": "WfA3c_RfTurG"
      }
    },
    {
      "cell_type": "code",
      "source": [
        "i = 0\n",
        "while i < 10:\n",
        "    print(\"i is :\",i)\n",
        "    i = i + 1\n",
        "print(\"After exist from loop\")"
      ],
      "metadata": {
        "colab": {
          "base_uri": "https://localhost:8080/"
        },
        "id": "YpiMG5ygRzBp",
        "outputId": "3778d5dc-33ff-48c9-d869-b9c50d496b81"
      },
      "execution_count": 11,
      "outputs": [
        {
          "output_type": "stream",
          "name": "stdout",
          "text": [
            "i is : 0\n",
            "i is : 1\n",
            "i is : 2\n",
            "i is : 3\n",
            "i is : 4\n",
            "i is : 5\n",
            "i is : 6\n",
            "i is : 7\n",
            "i is : 8\n",
            "i is : 9\n",
            "After exist from loop\n"
          ]
        }
      ]
    },
    {
      "cell_type": "markdown",
      "source": [
        "Sum of Digits using While Loop"
      ],
      "metadata": {
        "id": "YNffbLk_Tyie"
      }
    },
    {
      "cell_type": "code",
      "source": [
        "num = int(input(\"Enter a number\"))\n",
        "\n",
        "sum = 0\n",
        "rem = 0\n",
        "\n",
        "while num > 0:\n",
        "    rem = num % 10\n",
        "    sum = sum + rem\n",
        "    num = num // 10\n",
        "print(\"Sum of given num is\",sum)"
      ],
      "metadata": {
        "colab": {
          "base_uri": "https://localhost:8080/"
        },
        "id": "2eLMeV7VTyOs",
        "outputId": "d47f5f34-3f89-4d64-d539-a14ba791bb89"
      },
      "execution_count": 12,
      "outputs": [
        {
          "output_type": "stream",
          "name": "stdout",
          "text": [
            "Enter a number54\n",
            "Sum of given num is 9\n"
          ]
        }
      ]
    },
    {
      "cell_type": "markdown",
      "source": [
        "Pattern using * (Nested fo loop)"
      ],
      "metadata": {
        "id": "l483pWYCVFNs"
      }
    },
    {
      "cell_type": "code",
      "source": [
        "for i in range(1,6):\n",
        "    for j in range(i):\n",
        "        print(\"*\",end=\" \")\n",
        "        #print(\"*\")\n",
        "    print(\"\\n\")"
      ],
      "metadata": {
        "colab": {
          "base_uri": "https://localhost:8080/"
        },
        "id": "EHl3sWxRTyLW",
        "outputId": "8e2a799c-445e-4a99-9a77-47d64e2fb1d8"
      },
      "execution_count": 16,
      "outputs": [
        {
          "output_type": "stream",
          "name": "stdout",
          "text": [
            "* \n",
            "\n",
            "* * \n",
            "\n",
            "* * * \n",
            "\n",
            "* * * * \n",
            "\n",
            "* * * * * \n",
            "\n"
          ]
        }
      ]
    },
    {
      "cell_type": "markdown",
      "source": [
        "Nested While Loop"
      ],
      "metadata": {
        "id": "rMPNeL1ZVavo"
      }
    },
    {
      "cell_type": "code",
      "source": [
        "x = 0\n",
        "y = 0\n",
        "\n",
        "while x < 5:\n",
        "    y = 0\n",
        "    while y < 3:\n",
        "        print(\"x is\",x,\"y is:\",y)\n",
        "        y = y + 1\n",
        "    x = x + 1"
      ],
      "metadata": {
        "colab": {
          "base_uri": "https://localhost:8080/"
        },
        "id": "Bb5p_IVgTyIX",
        "outputId": "501f0bae-8db1-4236-da44-c3d71b5d2845"
      },
      "execution_count": 17,
      "outputs": [
        {
          "output_type": "stream",
          "name": "stdout",
          "text": [
            "x is 0 y is: 0\n",
            "x is 0 y is: 1\n",
            "x is 0 y is: 2\n",
            "x is 1 y is: 0\n",
            "x is 1 y is: 1\n",
            "x is 1 y is: 2\n",
            "x is 2 y is: 0\n",
            "x is 2 y is: 1\n",
            "x is 2 y is: 2\n",
            "x is 3 y is: 0\n",
            "x is 3 y is: 1\n",
            "x is 3 y is: 2\n",
            "x is 4 y is: 0\n",
            "x is 4 y is: 1\n",
            "x is 4 y is: 2\n"
          ]
        }
      ]
    },
    {
      "cell_type": "code",
      "source": [],
      "metadata": {
        "id": "-5YLUbaPTyFw"
      },
      "execution_count": null,
      "outputs": []
    }
  ]
}